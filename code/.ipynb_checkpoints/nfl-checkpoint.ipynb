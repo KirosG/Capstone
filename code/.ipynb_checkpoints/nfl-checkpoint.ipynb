{
 "cells": [
  {
   "cell_type": "code",
   "execution_count": 100,
   "metadata": {
    "collapsed": true
   },
   "outputs": [],
   "source": [
    "import pandas as pd\n",
    "import numpy as np\n",
    "import matplotlib.pyplot as plt\n",
    "%matplotlib inline\n",
    "import re\n",
    "import seaborn as sns"
   ]
  },
  {
   "cell_type": "code",
   "execution_count": 2,
   "metadata": {
    "collapsed": false
   },
   "outputs": [],
   "source": [
    "pbp15a = pd.read_csv(\"../assets/pbp-2015.csv\",low_memory=False)\n",
    "pbp14 = pd.read_csv(\"../assets/pbp-2014.csv\",low_memory=False)\n",
    "pbp13 = pd.read_csv(\"../assets/pbp-2013.csv\",low_memory=False)\n",
    "weather = pd.read_csv(\"../assets/weather.csv\")\n",
    "weather2 = pd.read_csv(\"../assets/weather2.csv\")\n",
    "dome = pd.read_csv(\"../assets/dome.csv\")"
   ]
  },
  {
   "cell_type": "code",
   "execution_count": 3,
   "metadata": {
    "collapsed": false
   },
   "outputs": [],
   "source": [
    "pbp15a.GameDate = pd.to_datetime(pbp15a.GameDate)"
   ]
  },
  {
   "cell_type": "code",
   "execution_count": 4,
   "metadata": {
    "collapsed": false
   },
   "outputs": [],
   "source": [
    "#same format of date, fix\n",
    "pbp14.GameDate = pd.to_datetime(pbp14.GameDate,format='%d/%m/%y')\n",
    "pbp13.GameDate = pd.to_datetime(pbp13.GameDate,format='%d/%m/%y')"
   ]
  },
  {
   "cell_type": "code",
   "execution_count": 5,
   "metadata": {
    "collapsed": false
   },
   "outputs": [],
   "source": [
    "#remove null description for pbp14\n",
    "pbp14 = pbp14[pbp14.Description.isnull()==False].copy(deep=True)\n",
    "pbp14.reset_index(drop=True,inplace=True)"
   ]
  },
  {
   "cell_type": "code",
   "execution_count": 6,
   "metadata": {
    "collapsed": false
   },
   "outputs": [],
   "source": [
    "pbp15 = pd.concat([pbp15a,pbp14,pbp13]).copy(deep=True)"
   ]
  },
  {
   "cell_type": "code",
   "execution_count": 7,
   "metadata": {
    "collapsed": false
   },
   "outputs": [],
   "source": [
    "weather.GameDate = pd.to_datetime(weather.GameDate, format='%d/%m/%y')\n",
    "weather2.GameDate = pd.to_datetime(weather2.GameDate,format='%Y-%m-%d')"
   ]
  },
  {
   "cell_type": "code",
   "execution_count": 8,
   "metadata": {
    "collapsed": true
   },
   "outputs": [],
   "source": [
    "weather = pd.concat([weather,weather2])"
   ]
  },
  {
   "cell_type": "code",
   "execution_count": 9,
   "metadata": {
    "collapsed": false
   },
   "outputs": [],
   "source": [
    "weather.drop([\"city\",\"day\",\"location\",\"month\",\"state\",\"team\",\"year\"],axis=1,inplace=True)"
   ]
  },
  {
   "cell_type": "code",
   "execution_count": 10,
   "metadata": {
    "collapsed": false
   },
   "outputs": [],
   "source": [
    "dome.GameDate = pd.to_datetime(dome.GameDate, format='%d/%m/%y')"
   ]
  },
  {
   "cell_type": "code",
   "execution_count": 11,
   "metadata": {
    "collapsed": true
   },
   "outputs": [],
   "source": [
    "dome.Dome = dome.Dome.apply(lambda x: x if x==1 else 0)"
   ]
  },
  {
   "cell_type": "code",
   "execution_count": 12,
   "metadata": {
    "collapsed": false
   },
   "outputs": [],
   "source": [
    "def kickGood(x):\n",
    "    if re.search('(IS GOOD)',x):\n",
    "        return 1\n",
    "    else:\n",
    "        return 0"
   ]
  },
  {
   "cell_type": "code",
   "execution_count": 13,
   "metadata": {
    "collapsed": false
   },
   "outputs": [],
   "source": [
    "pbp15[\"IsGood\"]=pbp15.Description.apply(kickGood)"
   ]
  },
  {
   "cell_type": "code",
   "execution_count": 14,
   "metadata": {
    "collapsed": true
   },
   "outputs": [],
   "source": [
    "for i in pbp15.columns:\n",
    "    if \"Unnamed\" in i:\n",
    "        #checked first if there's anything inside, else drop\n",
    "        #print pbp15[i].value_counts()\n",
    "        #drop these columns because they are empty\n",
    "        pbp15.drop(i, axis=1, inplace=True)"
   ]
  },
  {
   "cell_type": "code",
   "execution_count": 15,
   "metadata": {
    "collapsed": false
   },
   "outputs": [],
   "source": [
    "pbp15.drop([\"NextScore\",\"TeamWin\",\"IsChallenge\",\"IsChallengeReversed\",\"Challenger\",\"IsMeasurement\",\n",
    "            \"IsTwoPointConversion\",\"YardLineDirection\",\"YardLineDirection\",\"IsNoPlay\",\"PenaltyType\",\"PenaltyYards\"],\n",
    "          axis=1,inplace=True)"
   ]
  },
  {
   "cell_type": "code",
   "execution_count": 16,
   "metadata": {
    "collapsed": true
   },
   "outputs": [],
   "source": [
    "pbp15sub = pbp15.loc[:,[\"GameId\",\"OffenseTeam\",\"DefenseTeam\"]].copy(deep=True)"
   ]
  },
  {
   "cell_type": "code",
   "execution_count": 17,
   "metadata": {
    "collapsed": false
   },
   "outputs": [],
   "source": [
    "d = {}\n",
    "\n",
    "for x in pbp15sub.values.tolist():\n",
    "    if pd.isnull(x[1]) == False:\n",
    "        if x[0] not in d:\n",
    "            d[x[0]] = x[1] + \" \" + x[2]"
   ]
  },
  {
   "cell_type": "code",
   "execution_count": 18,
   "metadata": {
    "collapsed": true
   },
   "outputs": [],
   "source": [
    "def fillOT(x,y,z):\n",
    "    if pd.isnull(y)==True:\n",
    "        for k,v in d.items():\n",
    "            if x == k:\n",
    "                team = v.split(\" \")\n",
    "                if z == team[0]:\n",
    "                    return team[1]\n",
    "                else:\n",
    "                    return team[0]\n",
    "    else:\n",
    "        return y"
   ]
  },
  {
   "cell_type": "code",
   "execution_count": 19,
   "metadata": {
    "collapsed": true
   },
   "outputs": [],
   "source": [
    "pbp15[\"OffenseTeam\"] = pbp15.apply(lambda x: fillOT(x['GameId'], x['OffenseTeam'],x['DefenseTeam']), axis=1)"
   ]
  },
  {
   "cell_type": "code",
   "execution_count": 20,
   "metadata": {
    "collapsed": false
   },
   "outputs": [],
   "source": [
    "pbp15 = pbp15.merge(weather, how=\"left\",on=[\"GameDate\",\"OffenseTeam\"]).copy(deep=True)"
   ]
  },
  {
   "cell_type": "code",
   "execution_count": 21,
   "metadata": {
    "collapsed": true
   },
   "outputs": [],
   "source": [
    "pbp15 = pbp15.merge(dome, how=\"left\",on=[\"GameDate\",\"OffenseTeam\"]).copy(deep=True)"
   ]
  },
  {
   "cell_type": "code",
   "execution_count": 22,
   "metadata": {
    "collapsed": true
   },
   "outputs": [],
   "source": [
    "pbp15 = pbp15.sort_values(by=[\"GameId\",\"Quarter\",\"Minute\",\"Second\"],ascending=[True,True,False,False]).copy(deep=True)"
   ]
  },
  {
   "cell_type": "code",
   "execution_count": 23,
   "metadata": {
    "collapsed": false
   },
   "outputs": [],
   "source": [
    "pbp15.reset_index(drop=True,inplace=True)"
   ]
  },
  {
   "cell_type": "code",
   "execution_count": 24,
   "metadata": {
    "collapsed": true
   },
   "outputs": [],
   "source": [
    "def initScore(x):\n",
    "    if x[\"IsTouchdown\"] == 1:\n",
    "        if x[\"IsInterception\"]==1:\n",
    "            return -6\n",
    "        elif x[\"PlayType\"]==\"PUNT\":\n",
    "            return -6\n",
    "        else:\n",
    "            return 6\n",
    "    elif (x[\"PlayType\"]==\"FIELD GOAL\") and (x[\"IsGood\"]==1):\n",
    "        return 3\n",
    "    elif (x[\"PlayType\"]==\"EXTRA POINT\") and (x[\"IsGood\"]==1):\n",
    "        return 1\n",
    "    elif x[\"IsTwoPointConversionSuccessful\"]==1:\n",
    "        return 2\n",
    "    else:\n",
    "        return 0"
   ]
  },
  {
   "cell_type": "code",
   "execution_count": 25,
   "metadata": {
    "collapsed": false
   },
   "outputs": [],
   "source": [
    "pbp15[\"score\"] = pbp15.apply(initScore, axis=1)"
   ]
  },
  {
   "cell_type": "code",
   "execution_count": 26,
   "metadata": {
    "collapsed": false
   },
   "outputs": [],
   "source": [
    "pbp15[\"scoreDiff\"] = pbp15.apply(lambda x: 0 if (x[\"Quarter\"]==1 and x[\"Minute\"]==15 and x[\"Second\"]==0) else np.nan,axis=1)"
   ]
  },
  {
   "cell_type": "code",
   "execution_count": 27,
   "metadata": {
    "collapsed": true
   },
   "outputs": [],
   "source": [
    "for x,y in enumerate(zip(pbp15[\"scoreDiff\"].values,pbp15[\"OffenseTeam\"])):\n",
    "    if pd.isnull(y[0]):\n",
    "        if y[1] == pbp15.loc[x-1,\"OffenseTeam\"]:\n",
    "            pbp15.loc[x,\"scoreDiff\"]=pbp15.loc[x-1,\"score\"]+pbp15.loc[x-1,\"scoreDiff\"]\n",
    "        else:\n",
    "            pbp15.loc[x,\"scoreDiff\"]=-1*(pbp15.loc[x-1,\"score\"]+pbp15.loc[x-1,\"scoreDiff\"])"
   ]
  },
  {
   "cell_type": "code",
   "execution_count": 28,
   "metadata": {
    "collapsed": false
   },
   "outputs": [],
   "source": [
    "def intYards(x,y):\n",
    "    if x==1:\n",
    "        return 0\n",
    "    else:\n",
    "        return y"
   ]
  },
  {
   "cell_type": "code",
   "execution_count": 29,
   "metadata": {
    "collapsed": false
   },
   "outputs": [],
   "source": [
    "pbp15[\"Yards\"] = pbp15.apply(lambda x: intYards(x['IsInterception'], x['Yards']), axis=1)"
   ]
  },
  {
   "cell_type": "code",
   "execution_count": 30,
   "metadata": {
    "collapsed": true
   },
   "outputs": [],
   "source": [
    "pbp15[\"lag_play\"] = pbp15.apply(lambda x: 0 if (x[\"Quarter\"]==1 and x[\"Minute\"]==15 and x[\"Second\"]==0) else np.nan,axis=1)"
   ]
  },
  {
   "cell_type": "code",
   "execution_count": 31,
   "metadata": {
    "collapsed": false
   },
   "outputs": [],
   "source": [
    "for x,y in enumerate(zip(pbp15[\"lag_play\"].values,pbp15[\"OffenseTeam\"].values)):\n",
    "    if pd.isnull(y[0]):\n",
    "        #if the same team, check if previous play is a pass, if it is, add 1 to previous value\n",
    "        #else if same team but previous play is not a pass, we reset to 0\n",
    "        if y[1] == pbp15.loc[x-1,\"OffenseTeam\"]:\n",
    "            if pbp15.loc[x-1,\"PlayType\"]==\"PASS\":\n",
    "                pbp15.loc[x,\"lag_play\"]=pbp15.loc[x-1,\"lag_play\"]+1\n",
    "            else:\n",
    "                pbp15.loc[x,\"lag_play\"]=0\n",
    "        #if it's not the same team, we start with zero\n",
    "        else:\n",
    "            pbp15.loc[x,\"lag_play\"]=0"
   ]
  },
  {
   "cell_type": "code",
   "execution_count": 32,
   "metadata": {
    "collapsed": true
   },
   "outputs": [],
   "source": [
    "pbp15[\"agg_incomplete_drive\"]=pbp15.apply(lambda x: 0 if (x[\"Quarter\"]==1 and x[\"Minute\"]==15 and x[\"Second\"]==0) else np.nan,axis=1)"
   ]
  },
  {
   "cell_type": "code",
   "execution_count": 33,
   "metadata": {
    "collapsed": true
   },
   "outputs": [],
   "source": [
    "for x,y in enumerate(zip(pbp15[\"agg_incomplete_drive\"].values,pbp15[\"OffenseTeam\"].values)):\n",
    "    if pd.isnull(y[0]):\n",
    "        #if the same team, check if previous play is a pass, if it is, add 1 to previous value\n",
    "        #else if same team but previous play is not a pass, we reset to 0\n",
    "        if y[1] == pbp15.loc[x-1,\"OffenseTeam\"]:\n",
    "            if (pbp15.loc[x-1,\"PlayType\"]==\"PASS\")&(pbp15.loc[x-1,\"IsIncomplete\"]==1):\n",
    "                pbp15.loc[x,\"agg_incomplete_drive\"]=pbp15.loc[x-1,\"agg_incomplete_drive\"]+1\n",
    "            else:\n",
    "                pbp15.loc[x,\"agg_incomplete_drive\"]=pbp15.loc[x-1,\"agg_incomplete_drive\"]\n",
    "        #if it's not the same team, we start with zero\n",
    "        else:\n",
    "            pbp15.loc[x,\"agg_incomplete_drive\"]=0"
   ]
  },
  {
   "cell_type": "code",
   "execution_count": 34,
   "metadata": {
    "collapsed": false
   },
   "outputs": [],
   "source": [
    "#if the playtype is not pass, we remove incomplete\n",
    "pbp15[\"agg_incomplete_drive\"]=pbp15.apply(lambda x: x[\"agg_incomplete_drive\"] if x[\"PlayType\"]==\"PASS\" else 0,axis=1)"
   ]
  },
  {
   "cell_type": "code",
   "execution_count": 35,
   "metadata": {
    "collapsed": true
   },
   "outputs": [],
   "source": [
    "pbp15[\"agg_rush_loss\"]=pbp15.apply(lambda x: 0 if (x[\"Quarter\"]==1 and x[\"Minute\"]==15 and x[\"Second\"]==0) else np.nan,axis=1)"
   ]
  },
  {
   "cell_type": "code",
   "execution_count": 36,
   "metadata": {
    "collapsed": true
   },
   "outputs": [],
   "source": [
    "for x,y in enumerate(zip(pbp15[\"agg_rush_loss\"].values,pbp15[\"OffenseTeam\"].values)):\n",
    "    if pd.isnull(y[0]):\n",
    "        #if the same team, check if previous play is a pass, if it is, add 1 to previous value\n",
    "        #else if same team but previous play is not a pass, we reset to 0\n",
    "        if y[1] == pbp15.loc[x-1,\"OffenseTeam\"]:\n",
    "            if (pbp15.loc[x-1,\"PlayType\"]==\"RUSH\")&(pbp15.loc[x-1,\"Yards\"]<=0):\n",
    "                pbp15.loc[x,\"agg_rush_loss\"]=pbp15.loc[x-1,\"agg_rush_loss\"]+1\n",
    "            else:\n",
    "                pbp15.loc[x,\"agg_rush_loss\"]=pbp15.loc[x-1,\"agg_rush_loss\"]\n",
    "        #if it's not the same team, we start with zero\n",
    "        else:\n",
    "            pbp15.loc[x,\"agg_rush_loss\"]=0"
   ]
  },
  {
   "cell_type": "code",
   "execution_count": 37,
   "metadata": {
    "collapsed": true
   },
   "outputs": [],
   "source": [
    "#if the playtype is not rush, we remove agg_rush_loss\n",
    "pbp15[\"agg_rush_loss\"]=pbp15.apply(lambda x: x[\"agg_rush_loss\"] if x[\"PlayType\"]==\"RUSH\" else 0,axis=1)"
   ]
  },
  {
   "cell_type": "code",
   "execution_count": 38,
   "metadata": {
    "collapsed": true
   },
   "outputs": [],
   "source": [
    "#let's look for interceptions per game (idk if i should make this per drive, it shouldn't be too often)\n",
    "pbp15[\"agg_ints\"]=pbp15.apply(lambda x: 0 if (x[\"Quarter\"]==1 and x[\"Minute\"]==15 and x[\"Second\"]==0) else np.nan,axis=1)"
   ]
  },
  {
   "cell_type": "code",
   "execution_count": 39,
   "metadata": {
    "collapsed": false
   },
   "outputs": [],
   "source": [
    "pbp15 = pbp15.sort_values(by=[\"GameId\",\"agg_ints\",\"OffenseTeam\",\"Quarter\",\"Minute\",\"Second\"],ascending=[True,True,True,True,False,False]).copy(deep=True)"
   ]
  },
  {
   "cell_type": "code",
   "execution_count": 40,
   "metadata": {
    "collapsed": true
   },
   "outputs": [],
   "source": [
    "pbp15.reset_index(drop=True,inplace=True)"
   ]
  },
  {
   "cell_type": "code",
   "execution_count": 41,
   "metadata": {
    "collapsed": false
   },
   "outputs": [],
   "source": [
    "for x,y in enumerate(zip(pbp15[\"agg_ints\"].values,pbp15[\"GameId\"].values,pbp15[\"OffenseTeam\"].values)):\n",
    "    if pd.isnull(y[0]):\n",
    "        #in one game, get the interceptions\n",
    "        #first look at the gameid, then if the offense team is the same\n",
    "        if y[1] == pbp15.loc[x-1,\"GameId\"]:\n",
    "            if y[2] == pbp15.loc[x-1,\"OffenseTeam\"]:\n",
    "                if pbp15.loc[x-1,\"IsInterception\"]==1:\n",
    "                    pbp15.loc[x,\"agg_ints\"]=pbp15.loc[x-1,\"agg_ints\"]+1\n",
    "                else:\n",
    "                    pbp15.loc[x,\"agg_ints\"]=pbp15.loc[x-1,\"agg_ints\"]\n",
    "            #if it's not the same team, we start with zero\n",
    "            else:\n",
    "                pbp15.loc[x,\"agg_ints\"]=0\n",
    "        else:\n",
    "            pbp15.loc[x,\"agg_ints\"]=0"
   ]
  },
  {
   "cell_type": "code",
   "execution_count": 42,
   "metadata": {
    "collapsed": true
   },
   "outputs": [],
   "source": [
    "#create a copy for only the Rush Nulls\n",
    "pbp15rush = pbp15[(pbp15.IsRush==1)&(pbp15.RushDirection.isnull()==True)].copy(deep=True)"
   ]
  },
  {
   "cell_type": "code",
   "execution_count": 43,
   "metadata": {
    "collapsed": false
   },
   "outputs": [],
   "source": [
    "def fillRush(x):\n",
    "    if re.search('((LEFT|RIGHT).(GUARD|TACKLE|END)|(MIDDLE))',x):\n",
    "        return re.search('((LEFT|RIGHT).(GUARD|TACKLE|END)|(MIDDLE))',x).group(0)\n",
    "    else:\n",
    "        return x"
   ]
  },
  {
   "cell_type": "code",
   "execution_count": 44,
   "metadata": {
    "collapsed": false
   },
   "outputs": [],
   "source": [
    "pbp15.loc[pbp15rush.index,\"RushDirection\"] = pbp15rush.Description.apply(fillRush)"
   ]
  },
  {
   "cell_type": "code",
   "execution_count": 45,
   "metadata": {
    "collapsed": false
   },
   "outputs": [],
   "source": [
    "#pbp15[(pbp15.Description.str.contains(\"SCRAMBLES\"))]"
   ]
  },
  {
   "cell_type": "code",
   "execution_count": 46,
   "metadata": {
    "collapsed": false
   },
   "outputs": [],
   "source": [
    "#remove END of game, TIMEOUTS and Two minute warnings\n",
    "pbp15.drop(pbp15[pbp15.Description.str.startswith(\"END\")].index,inplace=True)\n",
    "pbp15.drop(pbp15[pbp15.Description.str.startswith(\"TIMEOUT\")].index,inplace=True)\n",
    "pbp15.drop(pbp15[pbp15.Description.str.startswith(\"TWO\")].index,inplace=True)"
   ]
  },
  {
   "cell_type": "code",
   "execution_count": 47,
   "metadata": {
    "collapsed": false
   },
   "outputs": [],
   "source": [
    "pbp15.loc[pbp15[pbp15.PlayType.isnull()==True].index,\n",
    "          \"RushDirection\"] = pbp15[pbp15.PlayType.isnull()==True].Description.apply(\n",
    "    lambda x:re.search('((LEFT|RIGHT).(GUARD|TACKLE|END)|(MIDDLE))',x).group(0) \n",
    "    if re.search('((LEFT|RIGHT).(GUARD|TACKLE|END)|(MIDDLE))',x) else \"NA\")"
   ]
  },
  {
   "cell_type": "code",
   "execution_count": 48,
   "metadata": {
    "collapsed": false
   },
   "outputs": [],
   "source": [
    "pbp15.PlayType.fillna(value=\"RUSH\",inplace=True)\n",
    "pbp15.PenaltyTeam.fillna(value=\"NA\",inplace=True)"
   ]
  },
  {
   "cell_type": "code",
   "execution_count": 49,
   "metadata": {
    "collapsed": true
   },
   "outputs": [],
   "source": [
    "#limit to Pass, rush, punt and field goal, scramble is yet to happen\n",
    "pbp15 = pbp15[(pbp15.PlayType==\"PASS\")|(pbp15.PlayType==\"RUSH\")|(pbp15.PlayType==\"PUNT\")|\n",
    "              (pbp15.PlayType==\"FIELD GOAL\")].copy(deep=True)"
   ]
  },
  {
   "cell_type": "code",
   "execution_count": 50,
   "metadata": {
    "collapsed": true
   },
   "outputs": [],
   "source": [
    "#Fill out the rest of the null values which should be PassTypes and RushDirections\n",
    "pbp15.fillna(\"NA\",inplace=True)"
   ]
  },
  {
   "cell_type": "code",
   "execution_count": 51,
   "metadata": {
    "collapsed": true
   },
   "outputs": [],
   "source": [
    "pbp15 = pbp15[pbp15[\"PassType\"].\n",
    "      isin([\"SHORT RIGHT\",\"SHORT LEFT\",\"SHORT MIDDLE\",\"DEEP LEFT\",\"DEEP RIGHT\",\"DEEP MIDDLE\",\"NA\"])].copy(deep=True)"
   ]
  },
  {
   "cell_type": "code",
   "execution_count": 52,
   "metadata": {
    "collapsed": true
   },
   "outputs": [],
   "source": [
    "pbp15[\"IsPass\"] = pbp15[\"IsPass\"].apply(lambda x: int(x))\n",
    "pbp15[\"IsRush\"] = pbp15[\"IsRush\"].apply(lambda x: int(x))"
   ]
  },
  {
   "cell_type": "code",
   "execution_count": 53,
   "metadata": {
    "collapsed": true
   },
   "outputs": [],
   "source": [
    "def getTarget(x):\n",
    "    if x[\"IsRush\"]==1:\n",
    "        #get the rush direction\n",
    "        return x[\"PlayType\"] + \" \" + x[\"RushDirection\"]\n",
    "    elif x[\"IsPass\"]==1:\n",
    "        return x[\"PlayType\"] + \" \" + x[\"PassType\"]\n",
    "    else:\n",
    "        return x[\"PlayType\"]"
   ]
  },
  {
   "cell_type": "code",
   "execution_count": 54,
   "metadata": {
    "collapsed": true
   },
   "outputs": [],
   "source": [
    "pbp15[\"specific\"] = pbp15.apply(getTarget,axis=1)"
   ]
  },
  {
   "cell_type": "code",
   "execution_count": 55,
   "metadata": {
    "collapsed": true
   },
   "outputs": [],
   "source": [
    "#drop the ones without direction\n",
    "pbp15.drop(pbp15[pbp15.specific==\"PASS NA\"].index,inplace=True)\n",
    "pbp15.drop(pbp15[pbp15.specific==\"RUSH NA\"].index,inplace=True)\n",
    "pbp15.drop(pbp15[pbp15.specific==\"RUSH\"].index,inplace=True)"
   ]
  },
  {
   "cell_type": "code",
   "execution_count": 56,
   "metadata": {
    "collapsed": false
   },
   "outputs": [],
   "source": [
    "pbp15 = pbp15.sort_values(by=[\"GameId\",\"rain\",\"OffenseTeam\",\"Quarter\",\"Minute\",\"Second\"],ascending=[True,True,True,True,False,False])\n",
    "pbp15.reset_index(drop=True,inplace=True)"
   ]
  },
  {
   "cell_type": "code",
   "execution_count": 57,
   "metadata": {
    "collapsed": false
   },
   "outputs": [],
   "source": [
    "pbp15[\"snow\"] = pbp15[\"snow\"].apply(lambda x: np.nan if x==\"NA\" else x)\n",
    "pbp15[\"rain\"] = pbp15[\"rain\"].apply(lambda x: np.nan if x==\"NA\" else x)"
   ]
  },
  {
   "cell_type": "code",
   "execution_count": 58,
   "metadata": {
    "collapsed": true
   },
   "outputs": [],
   "source": [
    "pbp15[\"Dome\"] = pbp15[\"Dome\"].apply(lambda x: np.nan if x==\"NA\" else x)"
   ]
  },
  {
   "cell_type": "code",
   "execution_count": 59,
   "metadata": {
    "collapsed": false
   },
   "outputs": [],
   "source": [
    "pbp15.ffill(inplace=True)"
   ]
  },
  {
   "cell_type": "code",
   "execution_count": 60,
   "metadata": {
    "collapsed": false
   },
   "outputs": [
    {
     "data": {
      "text/plain": [
       "<matplotlib.axes._subplots.AxesSubplot at 0x11b7abf90>"
      ]
     },
     "execution_count": 60,
     "metadata": {},
     "output_type": "execute_result"
    },
    {
     "data": {
      "image/png": "[encoded data removed]",
      "text/plain": [
       "<matplotlib.figure.Figure at 0x1191eeb90>"
      ]
     },
     "metadata": {},
     "output_type": "display_data"
    }
   ],
   "source": [
    "sns.distplot(pbp15[(pbp15[\"Quarter\"]==4)&(pbp15[\"Minute\"]==2)&(pbp15[\"scoreDiff\"]<0)].scoreDiff)"
   ]
  },
  {
   "cell_type": "code",
   "execution_count": 61,
   "metadata": {
    "collapsed": false
   },
   "outputs": [
    {
     "data": {
      "text/plain": [
       "-11.0"
      ]
     },
     "execution_count": 61,
     "metadata": {},
     "output_type": "execute_result"
    }
   ],
   "source": [
    "pbp15[(pbp15[\"Quarter\"]==4)&(pbp15[\"Minute\"]==2)&(pbp15[\"scoreDiff\"]<0)].scoreDiff.median()"
   ]
  },
  {
   "cell_type": "code",
   "execution_count": 62,
   "metadata": {
    "collapsed": false
   },
   "outputs": [
    {
     "data": {
      "image/png": "[encoded data removed]",
      "text/plain": [
       "<matplotlib.figure.Figure at 0x11ca7d4d0>"
      ]
     },
     "metadata": {},
     "output_type": "display_data"
    }
   ],
   "source": [
    "plt.figure(figsize=(8,6))\n",
    "ax = sns.countplot(x=\"PlayType\", data=pbp15, hue=\"Down\",palette=\"colorblind\")\n",
    "\n",
    "for p in ax.patches:\n",
    "    x=p.get_bbox().get_points()[:,0]\n",
    "    y=p.get_bbox().get_points()[1,1]\n",
    "    ax.annotate('{:.1f}%'.format(100.*y/len(pbp15)), (x.mean(), y), \n",
    "            ha='center', va='bottom') # set the alignment of the text"
   ]
  },
  {
   "cell_type": "code",
   "execution_count": 63,
   "metadata": {
    "collapsed": false
   },
   "outputs": [
    {
     "data": {
      "image/png": "[encoded data removed]",
      "text/plain": [
       "<matplotlib.figure.Figure at 0x11fc46910>"
      ]
     },
     "metadata": {},
     "output_type": "display_data"
    }
   ],
   "source": [
    "plt.figure(figsize=(8,6))\n",
    "ax = sns.countplot(x=\"PlayType\", data=pbp15, hue=\"Quarter\",palette=\"colorblind\")\n",
    "\n",
    "for p in ax.patches:\n",
    "    x=p.get_bbox().get_points()[:,0]\n",
    "    y=p.get_bbox().get_points()[1,1]\n",
    "    ax.annotate('{:.1f}%'.format(100.*y/len(pbp15)), (x.mean(), y), \n",
    "            ha='center', va='bottom') # set the alignment of the text"
   ]
  },
  {
   "cell_type": "code",
   "execution_count": 64,
   "metadata": {
    "collapsed": false
   },
   "outputs": [
    {
     "data": {
      "image/png": "[encoded data removed]",
      "text/plain": [
       "<matplotlib.figure.Figure at 0x11fbe5710>"
      ]
     },
     "metadata": {},
     "output_type": "display_data"
    }
   ],
   "source": [
    "#baseline for specific play \n",
    "plt.figure(figsize=(8,6))\n",
    "ax = sns.countplot(x=\"specific\", data=pbp15,palette=\"colorblind\")\n",
    "plt.title('Distribution of Play Types')\n",
    "plt.xlabel('Play Types')\n",
    "\n",
    "for p in ax.patches:\n",
    "    x=p.get_bbox().get_points()[:,0]\n",
    "    y=p.get_bbox().get_points()[1,1]\n",
    "    ax.annotate('{:.1f}%'.format(100.*y/len(pbp15)), (x.mean(), y), \n",
    "            ha='center', va='bottom') # set the alignment of the text\n",
    "    \n",
    "for item in ax.get_xticklabels():\n",
    "    item.set_rotation(90)"
   ]
  },
  {
   "cell_type": "code",
   "execution_count": 65,
   "metadata": {
    "collapsed": true
   },
   "outputs": [],
   "source": [
    "def getDirection(x):\n",
    "    if x.split(\" \")[0]==\"PASS\":\n",
    "        if \"LEFT\" in x:\n",
    "            return \"PASS LEFT\"\n",
    "        elif \"RIGHT\" in x:\n",
    "            return \"PASS RIGHT\"\n",
    "        else:\n",
    "            return \"PASS MIDDLE\"\n",
    "    elif x.split(\" \")[0]==\"RUSH\":\n",
    "        if \"LEFT\" in x:\n",
    "            return \"RUSH LEFT\"\n",
    "        elif \"RIGHT\" in x:\n",
    "            return \"RUSH RIGHT\"\n",
    "        else:\n",
    "            return \"RUSH CENTER\"\n",
    "    elif x.split(\" \")[0]==\"FIELD\":\n",
    "        return \"FIELD GOAL\"\n",
    "    else:\n",
    "        return \"PUNT\""
   ]
  },
  {
   "cell_type": "code",
   "execution_count": 66,
   "metadata": {
    "collapsed": false
   },
   "outputs": [],
   "source": [
    "pbp15[\"direction\"] = pbp15[\"specific\"].apply(getDirection)"
   ]
  },
  {
   "cell_type": "code",
   "execution_count": 67,
   "metadata": {
    "collapsed": true
   },
   "outputs": [],
   "source": [
    "def getDirection2(x):\n",
    "    if \"LEFT\" in x:\n",
    "        return \"LEFT\"\n",
    "    elif \"RIGHT\" in x:\n",
    "        return \"RIGHT\"\n",
    "    elif \"MIDDLE\" in x:\n",
    "        return \"MIDDLE\"\n",
    "    elif \"CENTER\" in x:\n",
    "        return \"CENTER\"\n",
    "    else:\n",
    "        return \"OTHER\""
   ]
  },
  {
   "cell_type": "code",
   "execution_count": 68,
   "metadata": {
    "collapsed": true
   },
   "outputs": [],
   "source": [
    "pbp15[\"direc_only\"] = pbp15[\"specific\"].apply(getDirection2)"
   ]
  },
  {
   "cell_type": "code",
   "execution_count": 69,
   "metadata": {
    "collapsed": false
   },
   "outputs": [
    {
     "data": {
      "image/png": "[encoded data removed]",
      "text/plain": [
       "<matplotlib.figure.Figure at 0x11c817fd0>"
      ]
     },
     "metadata": {},
     "output_type": "display_data"
    }
   ],
   "source": [
    "#baseline for Play + Direction\n",
    "plt.figure(figsize=(8,6))\n",
    "ax = sns.countplot(x=\"direction\", data=pbp15,palette=\"colorblind\")\n",
    "plt.title('Distribution of Play Types')\n",
    "plt.xlabel('Play Types')\n",
    "\n",
    "for p in ax.patches:\n",
    "    x=p.get_bbox().get_points()[:,0]\n",
    "    y=p.get_bbox().get_points()[1,1]\n",
    "    ax.annotate('{:.1f}%'.format(100.*y/len(pbp15)), (x.mean(), y), \n",
    "            ha='center', va='bottom') # set the alignment of the text\n",
    "    \n",
    "for item in ax.get_xticklabels():\n",
    "    item.set_rotation(90)"
   ]
  },
  {
   "cell_type": "code",
   "execution_count": 70,
   "metadata": {
    "collapsed": true
   },
   "outputs": [],
   "source": [
    "def getShortDeep(x):\n",
    "    if x.split(\" \")[0]==\"PASS\":\n",
    "        if \"SHORT\" in x:\n",
    "            return \"PASS SHORT\"\n",
    "        else:\n",
    "            return \"PASS DEEP\"\n",
    "    elif x.split(\" \")[0]==\"RUSH\":\n",
    "        return \"RUSH\"\n",
    "    elif x.split(\" \")[0]==\"FIELD\":\n",
    "        return \"FIELD GOAL\"\n",
    "    else:\n",
    "        return \"PUNT\""
   ]
  },
  {
   "cell_type": "code",
   "execution_count": 71,
   "metadata": {
    "collapsed": true
   },
   "outputs": [],
   "source": [
    "pbp15[\"shortDeep\"] = pbp15[\"specific\"].apply(getShortDeep)"
   ]
  },
  {
   "cell_type": "code",
   "execution_count": 72,
   "metadata": {
    "collapsed": false
   },
   "outputs": [
    {
     "data": {
      "image/png": "[encoded data removed]",
      "text/plain": [
       "<matplotlib.figure.Figure at 0x11e0cb290>"
      ]
     },
     "metadata": {},
     "output_type": "display_data"
    }
   ],
   "source": [
    "#baseline for specific play \n",
    "plt.figure(figsize=(8,6))\n",
    "ax = sns.countplot(x=\"shortDeep\", data=pbp15,palette=\"colorblind\")\n",
    "plt.title('Distribution of Play Types')\n",
    "plt.xlabel('Play Types')\n",
    "\n",
    "for p in ax.patches:\n",
    "    x=p.get_bbox().get_points()[:,0]\n",
    "    y=p.get_bbox().get_points()[1,1]\n",
    "    ax.annotate('{:.1f}%'.format(100.*y/len(pbp15)), (x.mean(), y), \n",
    "            ha='center', va='bottom') # set the alignment of the text\n",
    "    \n",
    "for item in ax.get_xticklabels():\n",
    "    item.set_rotation(90)"
   ]
  },
  {
   "cell_type": "code",
   "execution_count": 73,
   "metadata": {
    "collapsed": false
   },
   "outputs": [
    {
     "data": {
      "image/png": "[encoded data removed]",
      "text/plain": [
       "<matplotlib.figure.Figure at 0x11f034450>"
      ]
     },
     "metadata": {},
     "output_type": "display_data"
    }
   ],
   "source": [
    "#baseline for specific play \n",
    "plt.figure(figsize=(8,6))\n",
    "ax = sns.countplot(x=\"PlayType\", data=pbp15,palette=\"colorblind\")\n",
    "plt.title('Distribution of Play Types')\n",
    "plt.xlabel('Play Types')\n",
    "\n",
    "for p in ax.patches:\n",
    "    x=p.get_bbox().get_points()[:,0]\n",
    "    y=p.get_bbox().get_points()[1,1]\n",
    "    ax.annotate('{:.1f}%'.format(100.*y/len(pbp15)), (x.mean(), y), \n",
    "            ha='center', va='bottom') # set the alignment of the text\n",
    "    \n",
    "for item in ax.get_xticklabels():\n",
    "    item.set_rotation(90)"
   ]
  },
  {
   "cell_type": "code",
   "execution_count": 74,
   "metadata": {
    "collapsed": true
   },
   "outputs": [],
   "source": [
    "addInfo = pd.read_csv(\"../assets/hqc.csv\")"
   ]
  },
  {
   "cell_type": "code",
   "execution_count": 75,
   "metadata": {
    "collapsed": false
   },
   "outputs": [],
   "source": [
    "pbp15 = pbp15.merge(addInfo,how=\"left\",on=\"OffenseTeam\").copy(deep=True)"
   ]
  },
  {
   "cell_type": "code",
   "execution_count": 76,
   "metadata": {
    "collapsed": true
   },
   "outputs": [],
   "source": [
    "comb = pbp15.copy(deep=True)\n",
    "comb = comb[comb[\"Quarter\"]<=4].copy(deep=True)\n",
    "comb = comb[comb[\"Minute\"]>=2].copy(deep=True)"
   ]
  },
  {
   "cell_type": "code",
   "execution_count": 77,
   "metadata": {
    "collapsed": true
   },
   "outputs": [],
   "source": [
    "pbp15.to_csv(\"../assets/pbp.csv\")"
   ]
  },
  {
   "cell_type": "markdown",
   "metadata": {},
   "source": [
    "# Model"
   ]
  },
  {
   "cell_type": "code",
   "execution_count": 78,
   "metadata": {
    "collapsed": true
   },
   "outputs": [],
   "source": [
    "from sklearn.cross_validation import train_test_split,cross_val_score,StratifiedKFold\n",
    "from sklearn.ensemble import RandomForestClassifier,GradientBoostingClassifier\n",
    "from sklearn.metrics import accuracy_score,confusion_matrix,classification_report\n",
    "from sklearn.preprocessing import LabelEncoder,StandardScaler,label_binarize\n",
    "from sklearn.metrics import roc_curve, auc\n",
    "from sklearn.svm import SVC\n",
    "from sklearn.neighbors import KNeighborsClassifier\n",
    "from sklearn.grid_search import GridSearchCV"
   ]
  },
  {
   "cell_type": "code",
   "execution_count": 79,
   "metadata": {
    "collapsed": true
   },
   "outputs": [],
   "source": [
    "random_state = np.random.RandomState(0)"
   ]
  },
  {
   "cell_type": "code",
   "execution_count": 80,
   "metadata": {
    "collapsed": true
   },
   "outputs": [],
   "source": [
    "def score(model, name, myX,myy):\n",
    "    s = cross_val_score(model, myX, myy, cv=cv)\n",
    "    print \"{} Score:\\t{:0.3} ± {:0.3}\".format(name, s.mean().round(3), s.std().round(3))"
   ]
  },
  {
   "cell_type": "code",
   "execution_count": 81,
   "metadata": {
    "collapsed": true
   },
   "outputs": [],
   "source": [
    "def fitAndPrint(model):\n",
    "    model.fit(X_train,y_train)\n",
    "    y_pred = model.predict(X_test)\n",
    "    print \"Accuracy Score: %s\"%(accuracy_score(y_test,y_pred))\n",
    "    print confusion_matrix(y_test,y_pred)\n",
    "    print classification_report(y_test,y_pred)"
   ]
  },
  {
   "cell_type": "markdown",
   "metadata": {},
   "source": [
    "Start with the all the data that we have"
   ]
  },
  {
   "cell_type": "code",
   "execution_count": 82,
   "metadata": {
    "collapsed": false
   },
   "outputs": [],
   "source": [
    "le = LabelEncoder()"
   ]
  },
  {
   "cell_type": "code",
   "execution_count": 83,
   "metadata": {
    "collapsed": true
   },
   "outputs": [],
   "source": [
    "pbp15[\"OT\"] = le.fit_transform(pbp15[\"OffenseTeam\"].values)\n",
    "pbp15[\"DT\"] = le.transform(pbp15[\"DefenseTeam\"].values)\n",
    "pbp15[\"Form\"] = le.fit_transform(pbp15[\"Formation\"].values)"
   ]
  },
  {
   "cell_type": "code",
   "execution_count": 84,
   "metadata": {
    "collapsed": false
   },
   "outputs": [],
   "source": [
    "#try substituting yardline to YardLineFixed\n",
    "initList = [u'Quarter', u'Minute', u'Second',\n",
    "       u'Down', u'ToGo', u'YardLine', u'Yards', u'SeriesFirstDown',\n",
    "       u'scoreDiff', u'OT', u'DT', u'Form',u'agg_incomplete_drive',u'lag_play',u'agg_rush_loss',\n",
    "            u'snow',u'rain',u'agg_ints',u'HC',u'OC',u'QB',u'Dome']"
   ]
  },
  {
   "cell_type": "code",
   "execution_count": 85,
   "metadata": {
    "collapsed": false
   },
   "outputs": [],
   "source": [
    "#Classify to pass, rush, punt or fg\n",
    "X=pbp15[initList]\n",
    "y=pbp15[\"PlayType\"]"
   ]
  },
  {
   "cell_type": "code",
   "execution_count": 86,
   "metadata": {
    "collapsed": true
   },
   "outputs": [],
   "source": [
    "cv = StratifiedKFold(y, n_folds=5,shuffle=True)"
   ]
  },
  {
   "cell_type": "code",
   "execution_count": 87,
   "metadata": {
    "collapsed": true
   },
   "outputs": [],
   "source": [
    "X_train, X_test, y_train, y_test = train_test_split(X,y,test_size=.5,random_state=random_state)"
   ]
  },
  {
   "cell_type": "code",
   "execution_count": 88,
   "metadata": {
    "collapsed": false
   },
   "outputs": [],
   "source": [
    "#initialize our model\n",
    "rf = RandomForestClassifier()"
   ]
  },
  {
   "cell_type": "code",
   "execution_count": 89,
   "metadata": {
    "collapsed": false
   },
   "outputs": [
    {
     "name": "stdout",
     "output_type": "stream",
     "text": [
      "Random Forest Score:\t0.846 ± 0.003\n"
     ]
    }
   ],
   "source": [
    "score(rf,\"Random Forest\",X,y)"
   ]
  },
  {
   "cell_type": "code",
   "execution_count": 90,
   "metadata": {
    "collapsed": false
   },
   "outputs": [
    {
     "name": "stdout",
     "output_type": "stream",
     "text": [
      "GB Score:\t0.867 ± 0.002\n"
     ]
    }
   ],
   "source": [
    "gb = GradientBoostingClassifier(learning_rate=0.1, min_samples_split=500,min_samples_leaf=50,max_depth=8,max_features='sqrt',subsample=0.8)\n",
    "score(gb,\"GB\",X,y)"
   ]
  },
  {
   "cell_type": "code",
   "execution_count": 91,
   "metadata": {
    "collapsed": false
   },
   "outputs": [
    {
     "name": "stdout",
     "output_type": "stream",
     "text": [
      "Gradient Boosting General Score:\t0.864 ± 0.002\n"
     ]
    }
   ],
   "source": [
    "gb2 = GradientBoostingClassifier()\n",
    "score(gb2,\"Gradient Boosting General\",X,y)"
   ]
  },
  {
   "cell_type": "code",
   "execution_count": 92,
   "metadata": {
    "collapsed": false
   },
   "outputs": [
    {
     "name": "stdout",
     "output_type": "stream",
     "text": [
      "Accuracy Score: 0.845019207101\n",
      "[[ 1504     1     0     0]\n",
      " [    2 25792    23  2993]\n",
      " [    0     4  3843     1]\n",
      " [    3  5275     9 14176]]\n",
      "             precision    recall  f1-score   support\n",
      "\n",
      " FIELD GOAL       1.00      1.00      1.00      1505\n",
      "       PASS       0.83      0.90      0.86     28810\n",
      "       PUNT       0.99      1.00      1.00      3848\n",
      "       RUSH       0.83      0.73      0.77     19463\n",
      "\n",
      "avg / total       0.84      0.85      0.84     53626\n",
      "\n"
     ]
    }
   ],
   "source": [
    "#we can see that gb has a higher score that random forest, but let's fit random forest and take a look at the\n",
    "#feature importances (without consideration of learning from weak classes)\n",
    "fitAndPrint(rf)"
   ]
  },
  {
   "cell_type": "code",
   "execution_count": 93,
   "metadata": {
    "collapsed": false
   },
   "outputs": [
    {
     "name": "stdout",
     "output_type": "stream",
     "text": [
      "0.0198736168773 Quarter\n",
      "0.038203641774 Minute\n",
      "0.0459647025672 Second\n",
      "0.140714948433 Down\n",
      "0.0409660026089 ToGo\n",
      "0.0642366963585 YardLine\n",
      "0.150793190535 Yards\n",
      "0.0205402449904 SeriesFirstDown\n",
      "0.0444880501842 scoreDiff\n",
      "0.0373885399935 OT\n",
      "0.0399664201021 DT\n",
      "0.165921834103 Form\n",
      "0.076134970429 agg_incomplete_drive\n",
      "0.016598818093 lag_play\n",
      "0.046840343036 agg_rush_loss\n",
      "0.00344684813068 snow\n",
      "0.00864751537494 rain\n",
      "0.0118217053046 agg_ints\n",
      "0.00787046100766 HC\n",
      "0.00497684237278 OC\n",
      "0.00838084577896 QB\n",
      "0.00622376194584 Dome\n"
     ]
    }
   ],
   "source": [
    "for a,b in zip(rf.feature_importances_,initList):\n",
    "    print a,b"
   ]
  },
  {
   "cell_type": "code",
   "execution_count": 94,
   "metadata": {
    "collapsed": false
   },
   "outputs": [
    {
     "name": "stdout",
     "output_type": "stream",
     "text": [
      "Accuracy Score: 0.866501323985\n",
      "[[ 1504     1     0     0]\n",
      " [    0 25716    19  3075]\n",
      " [    0     4  3842     2]\n",
      " [    0  4052     6 15405]]\n",
      "             precision    recall  f1-score   support\n",
      "\n",
      " FIELD GOAL       1.00      1.00      1.00      1505\n",
      "       PASS       0.86      0.89      0.88     28810\n",
      "       PUNT       0.99      1.00      1.00      3848\n",
      "       RUSH       0.83      0.79      0.81     19463\n",
      "\n",
      "avg / total       0.87      0.87      0.87     53626\n",
      "\n"
     ]
    }
   ],
   "source": [
    "fitAndPrint(gb)"
   ]
  },
  {
   "cell_type": "code",
   "execution_count": 96,
   "metadata": {
    "collapsed": false
   },
   "outputs": [],
   "source": [
    "#for visualizations in Tableau\n",
    "predictions = gb.predict_proba(X)"
   ]
  },
  {
   "cell_type": "code",
   "execution_count": 102,
   "metadata": {
    "collapsed": false
   },
   "outputs": [],
   "source": [
    "#get the probability of each play\n",
    "proba = [max(each) for each in predictions]"
   ]
  },
  {
   "cell_type": "code",
   "execution_count": 139,
   "metadata": {
    "collapsed": true
   },
   "outputs": [],
   "source": [
    "df = X.copy(deep=True)\n",
    "df[\"y_proba\"] = proba"
   ]
  },
  {
   "cell_type": "code",
   "execution_count": 140,
   "metadata": {
    "collapsed": false
   },
   "outputs": [],
   "source": [
    "df = df.merge(pbp15[[\"OffenseTeam\",\"DefenseTeam\",\"GameId\",\"PlayType\",\"score\"]], how=\"left\",left_index=True, right_index=True).copy(deep=True)"
   ]
  },
  {
   "cell_type": "code",
   "execution_count": 108,
   "metadata": {
    "collapsed": true
   },
   "outputs": [],
   "source": [
    "#try to optimize our model\n",
    "param_test1 = {'n_estimators':range(20,81,10)}\n",
    "gs = GridSearchCV(gb,param_grid = param_test1,n_jobs=-1,iid=False, cv=5)"
   ]
  },
  {
   "cell_type": "code",
   "execution_count": 109,
   "metadata": {
    "collapsed": false
   },
   "outputs": [
    {
     "name": "stdout",
     "output_type": "stream",
     "text": [
      "GB with GS Score:\t0.867 ± 0.003\n"
     ]
    }
   ],
   "source": [
    "score(gb,\"GB with GS\",X,y)"
   ]
  },
  {
   "cell_type": "code",
   "execution_count": 110,
   "metadata": {
    "collapsed": false
   },
   "outputs": [
    {
     "name": "stdout",
     "output_type": "stream",
     "text": [
      "Accuracy Score: 0.866557266997\n",
      "[[ 1504     1     0     0]\n",
      " [    0 25691    18  3101]\n",
      " [    0     4  3843     1]\n",
      " [    0  4023     8 15432]]\n",
      "             precision    recall  f1-score   support\n",
      "\n",
      " FIELD GOAL       1.00      1.00      1.00      1505\n",
      "       PASS       0.86      0.89      0.88     28810\n",
      "       PUNT       0.99      1.00      1.00      3848\n",
      "       RUSH       0.83      0.79      0.81     19463\n",
      "\n",
      "avg / total       0.87      0.87      0.87     53626\n",
      "\n"
     ]
    }
   ],
   "source": [
    "fitAndPrint(gs)"
   ]
  },
  {
   "cell_type": "code",
   "execution_count": 128,
   "metadata": {
    "collapsed": true
   },
   "outputs": [],
   "source": [
    "X=pbp15[initList]\n",
    "y=pbp15[\"shortDeep\"]"
   ]
  },
  {
   "cell_type": "code",
   "execution_count": 129,
   "metadata": {
    "collapsed": true
   },
   "outputs": [],
   "source": [
    "X_train, X_test, y_train, y_test = train_test_split(X,y,test_size=.5,random_state=random_state)"
   ]
  },
  {
   "cell_type": "code",
   "execution_count": 130,
   "metadata": {
    "collapsed": false
   },
   "outputs": [
    {
     "name": "stdout",
     "output_type": "stream",
     "text": [
      "Accuracy Score: 0.778409726625\n",
      "[[ 1546     0     0     0     1]\n",
      " [    0  1700  3619     7   273]\n",
      " [    0  1083 18891     5  3271]\n",
      " [    0     0     2  3918     3]\n",
      " [    0   348  3266     5 15688]]\n",
      "             precision    recall  f1-score   support\n",
      "\n",
      " FIELD GOAL       1.00      1.00      1.00      1547\n",
      "  PASS DEEP       0.54      0.30      0.39      5599\n",
      " PASS SHORT       0.73      0.81      0.77     23250\n",
      "       PUNT       1.00      1.00      1.00      3923\n",
      "       RUSH       0.82      0.81      0.81     19307\n",
      "\n",
      "avg / total       0.77      0.78      0.77     53626\n",
      "\n"
     ]
    }
   ],
   "source": [
    "fitAndPrint(gb)"
   ]
  },
  {
   "cell_type": "code",
   "execution_count": 157,
   "metadata": {
    "collapsed": false
   },
   "outputs": [
    {
     "name": "stdout",
     "output_type": "stream",
     "text": [
      "Accuracy Score: 0.777346809384\n",
      "[[ 1546     1     0     0     0]\n",
      " [    0  1614  3718     6   261]\n",
      " [    0  1014 19003     2  3231]\n",
      " [    0     1     0  3919     3]\n",
      " [    0   325  3373     5 15604]]\n",
      "             precision    recall  f1-score   support\n",
      "\n",
      " FIELD GOAL       1.00      1.00      1.00      1547\n",
      "  PASS DEEP       0.55      0.29      0.38      5599\n",
      " PASS SHORT       0.73      0.82      0.77     23250\n",
      "       PUNT       1.00      1.00      1.00      3923\n",
      "       RUSH       0.82      0.81      0.81     19307\n",
      "\n",
      "avg / total       0.77      0.78      0.77     53626\n",
      "\n"
     ]
    }
   ],
   "source": [
    "fitAndPrint(gs)"
   ]
  },
  {
   "cell_type": "code",
   "execution_count": 178,
   "metadata": {
    "collapsed": true
   },
   "outputs": [],
   "source": [
    "X=pbp15[initList]\n",
    "y=pbp15[\"direction\"]"
   ]
  },
  {
   "cell_type": "code",
   "execution_count": 179,
   "metadata": {
    "collapsed": true
   },
   "outputs": [],
   "source": [
    "X_train, X_test, y_train, y_test = train_test_split(X,y,test_size=.5,random_state=random_state)"
   ]
  },
  {
   "cell_type": "code",
   "execution_count": 180,
   "metadata": {
    "collapsed": false
   },
   "outputs": [
    {
     "name": "stdout",
     "output_type": "stream",
     "text": [
      "Accuracy Score: 0.405064707418\n",
      "[[1513    0    0    0    0    1    0    0]\n",
      " [   0 3447  748 5193    4  263  540  425]\n",
      " [   0 2096  734 3304    6  132  208  163]\n",
      " [   1 3471  749 5988   11  287  609  534]\n",
      " [   0    2    1    0 3911    0    0    0]\n",
      " [   0  374   40  713    3 1401 1319 1367]\n",
      " [   1  477   80  995    1  913 2441 2251]\n",
      " [   0  511   68  900    7  910 2226 2287]]\n",
      "             precision    recall  f1-score   support\n",
      "\n",
      " FIELD GOAL       1.00      1.00      1.00      1514\n",
      "  PASS LEFT       0.33      0.32      0.33     10620\n",
      "PASS MIDDLE       0.30      0.11      0.16      6643\n",
      " PASS RIGHT       0.35      0.51      0.42     11650\n",
      "       PUNT       0.99      1.00      1.00      3914\n",
      "RUSH CENTER       0.36      0.27      0.31      5217\n",
      "  RUSH LEFT       0.33      0.34      0.34      7159\n",
      " RUSH RIGHT       0.33      0.33      0.33      6909\n",
      "\n",
      "avg / total       0.40      0.41      0.39     53626\n",
      "\n"
     ]
    }
   ],
   "source": [
    "fitAndPrint(gb)"
   ]
  },
  {
   "cell_type": "code",
   "execution_count": 191,
   "metadata": {
    "collapsed": false
   },
   "outputs": [
    {
     "name": "stdout",
     "output_type": "stream",
     "text": [
      "Accuracy Score: 0.403815313467\n",
      "[[1513    0    0    0    0    1    0    0]\n",
      " [   0 3165  589 5654   14  248  542  408]\n",
      " [   0 1999  604 3552   10  112  211  155]\n",
      " [   1 3255  601 6398   14  268  611  502]\n",
      " [   0    0    0    4 3910    0    0    0]\n",
      " [   0  374   46  745    3 1345 1381 1323]\n",
      " [   0  495   72 1065    1  842 2503 2181]\n",
      " [   0  470   64  993    8  821 2336 2217]]\n",
      "             precision    recall  f1-score   support\n",
      "\n",
      " FIELD GOAL       1.00      1.00      1.00      1514\n",
      "  PASS LEFT       0.32      0.30      0.31     10620\n",
      "PASS MIDDLE       0.31      0.09      0.14      6643\n",
      " PASS RIGHT       0.35      0.55      0.43     11650\n",
      "       PUNT       0.99      1.00      0.99      3914\n",
      "RUSH CENTER       0.37      0.26      0.30      5217\n",
      "  RUSH LEFT       0.33      0.35      0.34      7159\n",
      " RUSH RIGHT       0.33      0.32      0.32      6909\n",
      "\n",
      "avg / total       0.40      0.40      0.39     53626\n",
      "\n"
     ]
    }
   ],
   "source": [
    "fitAndPrint(gs)"
   ]
  },
  {
   "cell_type": "code",
   "execution_count": null,
   "metadata": {
    "collapsed": true
   },
   "outputs": [],
   "source": [
    "###This was done after the initial tests of just pass,rush,fg,punt\n",
    "#Trying to see if we can determine which features were predictive of passes but seems like the accuracy\n",
    "#is the same as just fitting the model directly to predict the classes with direction"
   ]
  },
  {
   "cell_type": "code",
   "execution_count": null,
   "metadata": {
    "collapsed": true
   },
   "outputs": [],
   "source": [
    "comb[\"OT\"] = le.fit_transform(comb[\"OffenseTeam\"].values)\n",
    "comb[\"DT\"] = le.transform(comb[\"DefenseTeam\"].values)\n",
    "comb[\"Form\"] = le.fit_transform(comb[\"Formation\"].values)"
   ]
  },
  {
   "cell_type": "code",
   "execution_count": null,
   "metadata": {
    "collapsed": true
   },
   "outputs": [],
   "source": [
    "X=comb[initList]\n",
    "y=comb[\"PlayType\"]"
   ]
  },
  {
   "cell_type": "code",
   "execution_count": 406,
   "metadata": {
    "collapsed": false
   },
   "outputs": [],
   "source": [
    "#let's test if we can pull out the passes and predict the direction\n",
    "test_pred = gb.predict(X_test)\n",
    "df = X_test.copy(deep=True)\n",
    "df[\"y_pred\"] = test_pred"
   ]
  },
  {
   "cell_type": "code",
   "execution_count": 407,
   "metadata": {
    "collapsed": false
   },
   "outputs": [],
   "source": [
    "df = df.merge(pbp15[[\"direc_only\"]], how=\"left\",left_index=True, right_index=True).copy(deep=True)"
   ]
  },
  {
   "cell_type": "code",
   "execution_count": 408,
   "metadata": {
    "collapsed": true
   },
   "outputs": [],
   "source": [
    "passdf = df[df[\"y_pred\"]==\"PASS\"]"
   ]
  },
  {
   "cell_type": "code",
   "execution_count": 409,
   "metadata": {
    "collapsed": false
   },
   "outputs": [],
   "source": [
    "xs = passdf[initList]\n",
    "ys = passdf[\"direc_only\"]"
   ]
  },
  {
   "cell_type": "code",
   "execution_count": 410,
   "metadata": {
    "collapsed": true
   },
   "outputs": [],
   "source": [
    "X_train, X_test, y_train, y_test = train_test_split(xs,ys,test_size=.3,random_state=random_state)"
   ]
  },
  {
   "cell_type": "code",
   "execution_count": 411,
   "metadata": {
    "collapsed": false
   },
   "outputs": [
    {
     "name": "stdout",
     "output_type": "stream",
     "text": [
      "Accuracy Score: 0.382201300157\n",
      "[[   2  129    6    0  196]\n",
      " [   2 1319  193    0 1792]\n",
      " [   1  713  176    0  936]\n",
      " [   0    0    0    0    1]\n",
      " [   3 1345  195    0 1913]]\n",
      "             precision    recall  f1-score   support\n",
      "\n",
      "     CENTER       0.25      0.01      0.01       333\n",
      "       LEFT       0.38      0.40      0.39      3306\n",
      "     MIDDLE       0.31      0.10      0.15      1826\n",
      "      OTHER       0.00      0.00      0.00         1\n",
      "      RIGHT       0.40      0.55      0.46      3456\n",
      "\n",
      "avg / total       0.37      0.38      0.35      8922\n",
      "\n"
     ]
    }
   ],
   "source": [
    "#38% accuracy only\n",
    "fitAndPrint(gb)"
   ]
  },
  {
   "cell_type": "markdown",
   "metadata": {},
   "source": [
    "### This part is just for visualization in Tableau"
   ]
  },
  {
   "cell_type": "code",
   "execution_count": 166,
   "metadata": {
    "collapsed": false
   },
   "outputs": [],
   "source": [
    "yardline = df[df[\"GameId\"]==2015091300][[\"score\",\"y_proba\",\"scoreDiff\",\"Yards\",\"YardLine\",\"PlayType\",\"OffenseTeam\",\"DefenseTeam\",\"Quarter\",\"Minute\",\"Second\"]].copy(deep=True)"
   ]
  },
  {
   "cell_type": "code",
   "execution_count": 260,
   "metadata": {
    "collapsed": false
   },
   "outputs": [],
   "source": [
    "randlist = [rand.randrange(1,51,1) for _ in range (168)]"
   ]
  },
  {
   "cell_type": "code",
   "execution_count": 167,
   "metadata": {
    "collapsed": true
   },
   "outputs": [],
   "source": [
    "yardline[\"constant\"] = .75"
   ]
  },
  {
   "cell_type": "code",
   "execution_count": 168,
   "metadata": {
    "collapsed": false
   },
   "outputs": [],
   "source": [
    "yardline[\"Minute\"] = yardline[\"Minute\"].apply(lambda x: x*60)"
   ]
  },
  {
   "cell_type": "code",
   "execution_count": 169,
   "metadata": {
    "collapsed": false
   },
   "outputs": [],
   "source": [
    "yardline[\"totalsec\"] = yardline.apply(lambda x: x[\"Minute\"]+x[\"Second\"],axis=1)"
   ]
  },
  {
   "cell_type": "code",
   "execution_count": 183,
   "metadata": {
    "collapsed": false
   },
   "outputs": [],
   "source": [
    "def getSecs(x):\n",
    "    if x[\"Quarter\"] == 1:\n",
    "        return 900 - x[\"totalsec\"]\n",
    "    elif x[\"Quarter\"] == 2:\n",
    "        return 1800 - x[\"totalsec\"]\n",
    "    elif x[\"Quarter\"] ==3:\n",
    "        return 2700 - x[\"totalsec\"]\n",
    "    else:\n",
    "        return 3600 - x[\"totalsec\"]"
   ]
  },
  {
   "cell_type": "code",
   "execution_count": 184,
   "metadata": {
    "collapsed": false
   },
   "outputs": [],
   "source": [
    "yardline[\"secondspassed\"] = yardline.apply(getSecs,axis=1)"
   ]
  },
  {
   "cell_type": "code",
   "execution_count": 185,
   "metadata": {
    "collapsed": false
   },
   "outputs": [],
   "source": [
    "yardline.sort_values(by=[\"Quarter\",\"Minute\",\"Second\"],ascending=[True,False,False],inplace=True)"
   ]
  },
  {
   "cell_type": "code",
   "execution_count": 189,
   "metadata": {
    "collapsed": false
   },
   "outputs": [],
   "source": [
    "yardline[\"YardLine\"]=yardline.apply(lambda x: x[\"YardLine\"] if x[\"OffenseTeam\"]==\"CHI\" else 100-x[\"YardLine\"],axis=1)"
   ]
  },
  {
   "cell_type": "code",
   "execution_count": 190,
   "metadata": {
    "collapsed": true
   },
   "outputs": [],
   "source": [
    "yardline.to_csv(\"../assets/yardline.csv\")"
   ]
  }
 ],
 "metadata": {
  "kernelspec": {
   "display_name": "Python 2",
   "language": "python",
   "name": "python2"
  },
  "language_info": {
   "codemirror_mode": {
    "name": "ipython",
    "version": 2
   },
   "file_extension": ".py",
   "mimetype": "text/x-python",
   "name": "python",
   "nbconvert_exporter": "python",
   "pygments_lexer": "ipython2",
   "version": "2.7.12"
  }
 },
 "nbformat": 4,
 "nbformat_minor": 0
}
