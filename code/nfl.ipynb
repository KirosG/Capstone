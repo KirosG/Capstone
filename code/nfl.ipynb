{
 "cells": [
  {
   "cell_type": "code",
   "execution_count": 142,
   "metadata": {
    "collapsed": true
   },
   "outputs": [],
   "source": [
    "import pandas as pd\n",
    "import numpy as np\n",
    "import matplotlib.pyplot as plt\n",
    "%matplotlib inline"
   ]
  },
  {
   "cell_type": "code",
   "execution_count": 56,
   "metadata": {
    "collapsed": true
   },
   "outputs": [],
   "source": [
    "pbp15 = pd.read_csv(\"pbp-2015.csv\")"
   ]
  },
  {
   "cell_type": "code",
   "execution_count": 57,
   "metadata": {
    "collapsed": false
   },
   "outputs": [
    {
     "data": {
      "text/plain": [
       "GameId                              int64\n",
       "GameDate                           object\n",
       "Quarter                             int64\n",
       "Minute                              int64\n",
       "Second                              int64\n",
       "OffenseTeam                        object\n",
       "DefenseTeam                        object\n",
       "Down                                int64\n",
       "ToGo                                int64\n",
       "YardLine                            int64\n",
       "Unnamed: 10                       float64\n",
       "SeriesFirstDown                     int64\n",
       "Unnamed: 12                       float64\n",
       "NextScore                           int64\n",
       "Description                        object\n",
       "TeamWin                             int64\n",
       "Unnamed: 16                       float64\n",
       "Unnamed: 17                       float64\n",
       "SeasonYear                          int64\n",
       "Yards                               int64\n",
       "Formation                          object\n",
       "PlayType                           object\n",
       "IsRush                              int64\n",
       "IsPass                              int64\n",
       "IsIncomplete                        int64\n",
       "IsTouchdown                         int64\n",
       "PassType                           object\n",
       "IsSack                              int64\n",
       "IsChallenge                         int64\n",
       "IsChallengeReversed                 int64\n",
       "Challenger                        float64\n",
       "IsMeasurement                       int64\n",
       "IsInterception                      int64\n",
       "IsFumble                            int64\n",
       "IsPenalty                           int64\n",
       "IsTwoPointConversion                int64\n",
       "IsTwoPointConversionSuccessful      int64\n",
       "RushDirection                      object\n",
       "YardLineFixed                       int64\n",
       "YardLineDirection                  object\n",
       "IsPenaltyAccepted                   int64\n",
       "PenaltyTeam                        object\n",
       "IsNoPlay                            int64\n",
       "PenaltyType                        object\n",
       "PenaltyYards                        int64\n",
       "dtype: object"
      ]
     },
     "execution_count": 57,
     "metadata": {},
     "output_type": "execute_result"
    }
   ],
   "source": [
    "pbp15.dtypes"
   ]
  },
  {
   "cell_type": "code",
   "execution_count": 146,
   "metadata": {
    "collapsed": false
   },
   "outputs": [
    {
     "data": {
      "text/html": [
       "<div>\n",
       "<table border=\"1\" class=\"dataframe\">\n",
       "  <thead>\n",
       "    <tr style=\"text-align: right;\">\n",
       "      <th></th>\n",
       "      <th>GameId</th>\n",
       "      <th>GameDate</th>\n",
       "      <th>Quarter</th>\n",
       "      <th>Minute</th>\n",
       "      <th>Second</th>\n",
       "      <th>OffenseTeam</th>\n",
       "      <th>DefenseTeam</th>\n",
       "      <th>Down</th>\n",
       "      <th>ToGo</th>\n",
       "      <th>YardLine</th>\n",
       "      <th>...</th>\n",
       "      <th>IsTwoPointConversion</th>\n",
       "      <th>IsTwoPointConversionSuccessful</th>\n",
       "      <th>RushDirection</th>\n",
       "      <th>YardLineFixed</th>\n",
       "      <th>YardLineDirection</th>\n",
       "      <th>IsPenaltyAccepted</th>\n",
       "      <th>PenaltyTeam</th>\n",
       "      <th>IsNoPlay</th>\n",
       "      <th>PenaltyType</th>\n",
       "      <th>PenaltyYards</th>\n",
       "    </tr>\n",
       "  </thead>\n",
       "  <tbody>\n",
       "    <tr>\n",
       "      <th>1</th>\n",
       "      <td>2015091300</td>\n",
       "      <td>2015-09-13</td>\n",
       "      <td>3</td>\n",
       "      <td>4</td>\n",
       "      <td>50</td>\n",
       "      <td>NaN</td>\n",
       "      <td>GB</td>\n",
       "      <td>0</td>\n",
       "      <td>0</td>\n",
       "      <td>0</td>\n",
       "      <td>...</td>\n",
       "      <td>0</td>\n",
       "      <td>0</td>\n",
       "      <td>NaN</td>\n",
       "      <td>0</td>\n",
       "      <td>OWN</td>\n",
       "      <td>0</td>\n",
       "      <td>NaN</td>\n",
       "      <td>0</td>\n",
       "      <td>NaN</td>\n",
       "      <td>0</td>\n",
       "    </tr>\n",
       "    <tr>\n",
       "      <th>5</th>\n",
       "      <td>2015091303</td>\n",
       "      <td>2015-09-13</td>\n",
       "      <td>2</td>\n",
       "      <td>9</td>\n",
       "      <td>48</td>\n",
       "      <td>WAS</td>\n",
       "      <td>MIA</td>\n",
       "      <td>2</td>\n",
       "      <td>2</td>\n",
       "      <td>20</td>\n",
       "      <td>...</td>\n",
       "      <td>0</td>\n",
       "      <td>0</td>\n",
       "      <td>LEFT TACKLE</td>\n",
       "      <td>20</td>\n",
       "      <td>OWN</td>\n",
       "      <td>0</td>\n",
       "      <td>NaN</td>\n",
       "      <td>0</td>\n",
       "      <td>NaN</td>\n",
       "      <td>0</td>\n",
       "    </tr>\n",
       "    <tr>\n",
       "      <th>6</th>\n",
       "      <td>2015091303</td>\n",
       "      <td>2015-09-13</td>\n",
       "      <td>2</td>\n",
       "      <td>9</td>\n",
       "      <td>13</td>\n",
       "      <td>WAS</td>\n",
       "      <td>MIA</td>\n",
       "      <td>1</td>\n",
       "      <td>10</td>\n",
       "      <td>24</td>\n",
       "      <td>...</td>\n",
       "      <td>0</td>\n",
       "      <td>0</td>\n",
       "      <td>NaN</td>\n",
       "      <td>24</td>\n",
       "      <td>OWN</td>\n",
       "      <td>0</td>\n",
       "      <td>NaN</td>\n",
       "      <td>0</td>\n",
       "      <td>NaN</td>\n",
       "      <td>0</td>\n",
       "    </tr>\n",
       "    <tr>\n",
       "      <th>7</th>\n",
       "      <td>2015091303</td>\n",
       "      <td>2015-09-13</td>\n",
       "      <td>4</td>\n",
       "      <td>2</td>\n",
       "      <td>33</td>\n",
       "      <td>WAS</td>\n",
       "      <td>MIA</td>\n",
       "      <td>2</td>\n",
       "      <td>11</td>\n",
       "      <td>76</td>\n",
       "      <td>...</td>\n",
       "      <td>0</td>\n",
       "      <td>0</td>\n",
       "      <td>NaN</td>\n",
       "      <td>24</td>\n",
       "      <td>OPP</td>\n",
       "      <td>0</td>\n",
       "      <td>NaN</td>\n",
       "      <td>0</td>\n",
       "      <td>NaN</td>\n",
       "      <td>0</td>\n",
       "    </tr>\n",
       "    <tr>\n",
       "      <th>8</th>\n",
       "      <td>2015091304</td>\n",
       "      <td>2015-09-13</td>\n",
       "      <td>1</td>\n",
       "      <td>4</td>\n",
       "      <td>57</td>\n",
       "      <td>BUF</td>\n",
       "      <td>IND</td>\n",
       "      <td>2</td>\n",
       "      <td>20</td>\n",
       "      <td>37</td>\n",
       "      <td>...</td>\n",
       "      <td>0</td>\n",
       "      <td>0</td>\n",
       "      <td>NaN</td>\n",
       "      <td>37</td>\n",
       "      <td>OWN</td>\n",
       "      <td>0</td>\n",
       "      <td>NaN</td>\n",
       "      <td>0</td>\n",
       "      <td>NaN</td>\n",
       "      <td>0</td>\n",
       "    </tr>\n",
       "    <tr>\n",
       "      <th>9</th>\n",
       "      <td>2015091304</td>\n",
       "      <td>2015-09-13</td>\n",
       "      <td>2</td>\n",
       "      <td>12</td>\n",
       "      <td>24</td>\n",
       "      <td>NaN</td>\n",
       "      <td>IND</td>\n",
       "      <td>0</td>\n",
       "      <td>0</td>\n",
       "      <td>0</td>\n",
       "      <td>...</td>\n",
       "      <td>0</td>\n",
       "      <td>0</td>\n",
       "      <td>NaN</td>\n",
       "      <td>0</td>\n",
       "      <td>OWN</td>\n",
       "      <td>0</td>\n",
       "      <td>NaN</td>\n",
       "      <td>0</td>\n",
       "      <td>NaN</td>\n",
       "      <td>0</td>\n",
       "    </tr>\n",
       "    <tr>\n",
       "      <th>10</th>\n",
       "      <td>2015091304</td>\n",
       "      <td>2015-09-13</td>\n",
       "      <td>3</td>\n",
       "      <td>14</td>\n",
       "      <td>4</td>\n",
       "      <td>BUF</td>\n",
       "      <td>IND</td>\n",
       "      <td>1</td>\n",
       "      <td>10</td>\n",
       "      <td>68</td>\n",
       "      <td>...</td>\n",
       "      <td>0</td>\n",
       "      <td>0</td>\n",
       "      <td>NaN</td>\n",
       "      <td>32</td>\n",
       "      <td>OPP</td>\n",
       "      <td>0</td>\n",
       "      <td>NaN</td>\n",
       "      <td>0</td>\n",
       "      <td>NaN</td>\n",
       "      <td>0</td>\n",
       "    </tr>\n",
       "    <tr>\n",
       "      <th>11</th>\n",
       "      <td>2015091304</td>\n",
       "      <td>2015-09-13</td>\n",
       "      <td>3</td>\n",
       "      <td>13</td>\n",
       "      <td>27</td>\n",
       "      <td>BUF</td>\n",
       "      <td>IND</td>\n",
       "      <td>2</td>\n",
       "      <td>7</td>\n",
       "      <td>71</td>\n",
       "      <td>...</td>\n",
       "      <td>0</td>\n",
       "      <td>0</td>\n",
       "      <td>LEFT GUARD</td>\n",
       "      <td>29</td>\n",
       "      <td>OPP</td>\n",
       "      <td>0</td>\n",
       "      <td>NaN</td>\n",
       "      <td>0</td>\n",
       "      <td>NaN</td>\n",
       "      <td>0</td>\n",
       "    </tr>\n",
       "    <tr>\n",
       "      <th>13</th>\n",
       "      <td>2015091304</td>\n",
       "      <td>2015-09-13</td>\n",
       "      <td>4</td>\n",
       "      <td>13</td>\n",
       "      <td>33</td>\n",
       "      <td>BUF</td>\n",
       "      <td>IND</td>\n",
       "      <td>4</td>\n",
       "      <td>17</td>\n",
       "      <td>13</td>\n",
       "      <td>...</td>\n",
       "      <td>0</td>\n",
       "      <td>0</td>\n",
       "      <td>NaN</td>\n",
       "      <td>13</td>\n",
       "      <td>OWN</td>\n",
       "      <td>0</td>\n",
       "      <td>NaN</td>\n",
       "      <td>0</td>\n",
       "      <td>NaN</td>\n",
       "      <td>0</td>\n",
       "    </tr>\n",
       "    <tr>\n",
       "      <th>14</th>\n",
       "      <td>2015091304</td>\n",
       "      <td>2015-09-13</td>\n",
       "      <td>4</td>\n",
       "      <td>2</td>\n",
       "      <td>4</td>\n",
       "      <td>NaN</td>\n",
       "      <td>IND</td>\n",
       "      <td>0</td>\n",
       "      <td>0</td>\n",
       "      <td>0</td>\n",
       "      <td>...</td>\n",
       "      <td>0</td>\n",
       "      <td>0</td>\n",
       "      <td>NaN</td>\n",
       "      <td>0</td>\n",
       "      <td>OWN</td>\n",
       "      <td>0</td>\n",
       "      <td>NaN</td>\n",
       "      <td>0</td>\n",
       "      <td>NaN</td>\n",
       "      <td>0</td>\n",
       "    </tr>\n",
       "  </tbody>\n",
       "</table>\n",
       "<p>10 rows × 41 columns</p>\n",
       "</div>"
      ],
      "text/plain": [
       "        GameId    GameDate  Quarter  Minute  Second OffenseTeam DefenseTeam  \\\n",
       "1   2015091300  2015-09-13        3       4      50         NaN          GB   \n",
       "5   2015091303  2015-09-13        2       9      48         WAS         MIA   \n",
       "6   2015091303  2015-09-13        2       9      13         WAS         MIA   \n",
       "7   2015091303  2015-09-13        4       2      33         WAS         MIA   \n",
       "8   2015091304  2015-09-13        1       4      57         BUF         IND   \n",
       "9   2015091304  2015-09-13        2      12      24         NaN         IND   \n",
       "10  2015091304  2015-09-13        3      14       4         BUF         IND   \n",
       "11  2015091304  2015-09-13        3      13      27         BUF         IND   \n",
       "13  2015091304  2015-09-13        4      13      33         BUF         IND   \n",
       "14  2015091304  2015-09-13        4       2       4         NaN         IND   \n",
       "\n",
       "    Down  ToGo  YardLine      ...       IsTwoPointConversion  \\\n",
       "1      0     0         0      ...                          0   \n",
       "5      2     2        20      ...                          0   \n",
       "6      1    10        24      ...                          0   \n",
       "7      2    11        76      ...                          0   \n",
       "8      2    20        37      ...                          0   \n",
       "9      0     0         0      ...                          0   \n",
       "10     1    10        68      ...                          0   \n",
       "11     2     7        71      ...                          0   \n",
       "13     4    17        13      ...                          0   \n",
       "14     0     0         0      ...                          0   \n",
       "\n",
       "    IsTwoPointConversionSuccessful RushDirection  YardLineFixed  \\\n",
       "1                                0           NaN              0   \n",
       "5                                0   LEFT TACKLE             20   \n",
       "6                                0           NaN             24   \n",
       "7                                0           NaN             24   \n",
       "8                                0           NaN             37   \n",
       "9                                0           NaN              0   \n",
       "10                               0           NaN             32   \n",
       "11                               0    LEFT GUARD             29   \n",
       "13                               0           NaN             13   \n",
       "14                               0           NaN              0   \n",
       "\n",
       "    YardLineDirection  IsPenaltyAccepted PenaltyTeam IsNoPlay  PenaltyType  \\\n",
       "1                 OWN                  0         NaN        0          NaN   \n",
       "5                 OWN                  0         NaN        0          NaN   \n",
       "6                 OWN                  0         NaN        0          NaN   \n",
       "7                 OPP                  0         NaN        0          NaN   \n",
       "8                 OWN                  0         NaN        0          NaN   \n",
       "9                 OWN                  0         NaN        0          NaN   \n",
       "10                OPP                  0         NaN        0          NaN   \n",
       "11                OPP                  0         NaN        0          NaN   \n",
       "13                OWN                  0         NaN        0          NaN   \n",
       "14                OWN                  0         NaN        0          NaN   \n",
       "\n",
       "    PenaltyYards  \n",
       "1              0  \n",
       "5              0  \n",
       "6              0  \n",
       "7              0  \n",
       "8              0  \n",
       "9              0  \n",
       "10             0  \n",
       "11             0  \n",
       "13             0  \n",
       "14             0  \n",
       "\n",
       "[10 rows x 41 columns]"
      ]
     },
     "execution_count": 146,
     "metadata": {},
     "output_type": "execute_result"
    }
   ],
   "source": [
    "pbp15.head(10)"
   ]
  },
  {
   "cell_type": "code",
   "execution_count": 59,
   "metadata": {
    "collapsed": false
   },
   "outputs": [],
   "source": [
    "for i in pbp15.columns:\n",
    "    if \"Unnamed\" in i:\n",
    "        #checked first if there's anything inside, else drop\n",
    "        #print pbp15[i].value_counts()\n",
    "        #drop these columns because they are empty\n",
    "        pbp15.drop(i, axis=1, inplace=True)"
   ]
  },
  {
   "cell_type": "code",
   "execution_count": 60,
   "metadata": {
    "collapsed": false
   },
   "outputs": [
    {
     "data": {
      "text/plain": [
       "(46277, 41)"
      ]
     },
     "execution_count": 60,
     "metadata": {},
     "output_type": "execute_result"
    }
   ],
   "source": [
    "pbp15.shape"
   ]
  },
  {
   "cell_type": "code",
   "execution_count": 74,
   "metadata": {
    "collapsed": false
   },
   "outputs": [
    {
     "data": {
      "text/plain": [
       "GameId                                0\n",
       "GameDate                              0\n",
       "Quarter                               0\n",
       "Minute                                0\n",
       "Second                                0\n",
       "OffenseTeam                        1892\n",
       "DefenseTeam                           0\n",
       "Down                                  0\n",
       "ToGo                                  0\n",
       "YardLine                              0\n",
       "SeriesFirstDown                       0\n",
       "NextScore                             0\n",
       "Description                           0\n",
       "TeamWin                               0\n",
       "SeasonYear                            0\n",
       "Yards                                 0\n",
       "Formation                             0\n",
       "PlayType                             86\n",
       "IsRush                                0\n",
       "IsPass                                0\n",
       "IsIncomplete                          0\n",
       "IsTouchdown                           0\n",
       "PassType                          25514\n",
       "IsSack                                0\n",
       "IsChallenge                           0\n",
       "IsChallengeReversed                   0\n",
       "Challenger                        44865\n",
       "IsMeasurement                         0\n",
       "IsInterception                        0\n",
       "IsFumble                              0\n",
       "IsPenalty                             0\n",
       "IsTwoPointConversion                  0\n",
       "IsTwoPointConversionSuccessful        0\n",
       "RushDirection                     32322\n",
       "YardLineFixed                         0\n",
       "YardLineDirection                     0\n",
       "IsPenaltyAccepted                     0\n",
       "PenaltyTeam                       40844\n",
       "IsNoPlay                              0\n",
       "PenaltyType                       40842\n",
       "PenaltyYards                          0\n",
       "dtype: int64"
      ]
     },
     "execution_count": 74,
     "metadata": {},
     "output_type": "execute_result"
    }
   ],
   "source": [
    "pbp15.isnull().sum()"
   ]
  },
  {
   "cell_type": "code",
   "execution_count": 62,
   "metadata": {
    "collapsed": false
   },
   "outputs": [],
   "source": [
    "pbp15sub = pbp15.loc[:,[\"GameId\",\"OffenseTeam\",\"DefenseTeam\"]]"
   ]
  },
  {
   "cell_type": "code",
   "execution_count": 63,
   "metadata": {
    "collapsed": false
   },
   "outputs": [
    {
     "data": {
      "text/plain": [
       "GameId            0\n",
       "OffenseTeam    3304\n",
       "DefenseTeam       0\n",
       "dtype: int64"
      ]
     },
     "execution_count": 63,
     "metadata": {},
     "output_type": "execute_result"
    }
   ],
   "source": [
    "pbp15sub.isnull().sum()"
   ]
  },
  {
   "cell_type": "code",
   "execution_count": 64,
   "metadata": {
    "collapsed": false
   },
   "outputs": [
    {
     "data": {
      "text/plain": [
       "3304"
      ]
     },
     "execution_count": 64,
     "metadata": {},
     "output_type": "execute_result"
    }
   ],
   "source": [
    "d = {}\n",
    "ot = {}\n",
    "\n",
    "for x in pbp15sub.values.tolist():\n",
    "    if pd.isnull(x[1]) == False:\n",
    "        #key = x[1] + \" \" + x[2]\n",
    "        if x[0] not in d:\n",
    "            d[x[0]] = x[1] + \" \" + x[2]\n",
    "            #d[key] = x[0]\n",
    "\n",
    "\n",
    "for a,b in enumerate(pbp15sub.values.tolist()):\n",
    "    if pd.isnull(b[1]) == True:\n",
    "        for k,v in d.items():\n",
    "            #if b[0] == v:\n",
    "            if b[0] == k:\n",
    "                team = v.split(\" \")\n",
    "                if b[2] == team[0]:\n",
    "                    ot[a] = team[1]\n",
    "                else:\n",
    "                    ot[a] = team[0]\n",
    "                #team = k.split(\" \")\n",
    "                #if b[2] == team[1]:\n",
    "                    #ot[a] = team[0]\n",
    "\n",
    "len(ot)\n",
    "# offense = pd.DataFrame.from_dict(ot,orient=\"index\")\n",
    "# offense.head()"
   ]
  },
  {
   "cell_type": "code",
   "execution_count": 65,
   "metadata": {
    "collapsed": false
   },
   "outputs": [
    {
     "name": "stderr",
     "output_type": "stream",
     "text": [
      "/Users/Sheena/anaconda2/lib/python2.7/site-packages/ipykernel/__main__.py:2: SettingWithCopyWarning: \n",
      "A value is trying to be set on a copy of a slice from a DataFrame\n",
      "\n",
      "See the caveats in the documentation: http://pandas.pydata.org/pandas-docs/stable/indexing.html#indexing-view-versus-copy\n",
      "  from ipykernel import kernelapp as app\n"
     ]
    }
   ],
   "source": [
    "for k,v in ot.items():\n",
    "    pbp15sub.OffenseTeam[k] = v"
   ]
  },
  {
   "cell_type": "code",
   "execution_count": 66,
   "metadata": {
    "collapsed": false
   },
   "outputs": [
    {
     "data": {
      "text/plain": [
       "GameId         0\n",
       "OffenseTeam    0\n",
       "DefenseTeam    0\n",
       "dtype: int64"
      ]
     },
     "execution_count": 66,
     "metadata": {},
     "output_type": "execute_result"
    }
   ],
   "source": [
    "pbp15sub.isnull().sum()"
   ]
  },
  {
   "cell_type": "code",
   "execution_count": 67,
   "metadata": {
    "collapsed": false
   },
   "outputs": [
    {
     "data": {
      "text/html": [
       "<div>\n",
       "<table border=\"1\" class=\"dataframe\">\n",
       "  <thead>\n",
       "    <tr style=\"text-align: right;\">\n",
       "      <th></th>\n",
       "      <th>GameId</th>\n",
       "      <th>OffenseTeam</th>\n",
       "      <th>DefenseTeam</th>\n",
       "    </tr>\n",
       "  </thead>\n",
       "  <tbody>\n",
       "    <tr>\n",
       "      <th>0</th>\n",
       "      <td>2015091000</td>\n",
       "      <td>NE</td>\n",
       "      <td>PIT</td>\n",
       "    </tr>\n",
       "    <tr>\n",
       "      <th>1</th>\n",
       "      <td>2015091300</td>\n",
       "      <td>CHI</td>\n",
       "      <td>GB</td>\n",
       "    </tr>\n",
       "    <tr>\n",
       "      <th>2</th>\n",
       "      <td>2015091300</td>\n",
       "      <td>CHI</td>\n",
       "      <td>GB</td>\n",
       "    </tr>\n",
       "    <tr>\n",
       "      <th>3</th>\n",
       "      <td>2015091301</td>\n",
       "      <td>STL</td>\n",
       "      <td>SEA</td>\n",
       "    </tr>\n",
       "    <tr>\n",
       "      <th>4</th>\n",
       "      <td>2015091302</td>\n",
       "      <td>JAC</td>\n",
       "      <td>CAR</td>\n",
       "    </tr>\n",
       "    <tr>\n",
       "      <th>5</th>\n",
       "      <td>2015091303</td>\n",
       "      <td>WAS</td>\n",
       "      <td>MIA</td>\n",
       "    </tr>\n",
       "    <tr>\n",
       "      <th>6</th>\n",
       "      <td>2015091303</td>\n",
       "      <td>WAS</td>\n",
       "      <td>MIA</td>\n",
       "    </tr>\n",
       "    <tr>\n",
       "      <th>7</th>\n",
       "      <td>2015091303</td>\n",
       "      <td>WAS</td>\n",
       "      <td>MIA</td>\n",
       "    </tr>\n",
       "    <tr>\n",
       "      <th>8</th>\n",
       "      <td>2015091304</td>\n",
       "      <td>BUF</td>\n",
       "      <td>IND</td>\n",
       "    </tr>\n",
       "    <tr>\n",
       "      <th>9</th>\n",
       "      <td>2015091304</td>\n",
       "      <td>BUF</td>\n",
       "      <td>IND</td>\n",
       "    </tr>\n",
       "    <tr>\n",
       "      <th>10</th>\n",
       "      <td>2015091304</td>\n",
       "      <td>BUF</td>\n",
       "      <td>IND</td>\n",
       "    </tr>\n",
       "    <tr>\n",
       "      <th>11</th>\n",
       "      <td>2015091304</td>\n",
       "      <td>BUF</td>\n",
       "      <td>IND</td>\n",
       "    </tr>\n",
       "    <tr>\n",
       "      <th>12</th>\n",
       "      <td>2015091304</td>\n",
       "      <td>BUF</td>\n",
       "      <td>IND</td>\n",
       "    </tr>\n",
       "    <tr>\n",
       "      <th>13</th>\n",
       "      <td>2015091304</td>\n",
       "      <td>BUF</td>\n",
       "      <td>IND</td>\n",
       "    </tr>\n",
       "    <tr>\n",
       "      <th>14</th>\n",
       "      <td>2015091304</td>\n",
       "      <td>BUF</td>\n",
       "      <td>IND</td>\n",
       "    </tr>\n",
       "    <tr>\n",
       "      <th>15</th>\n",
       "      <td>2015091305</td>\n",
       "      <td>CLE</td>\n",
       "      <td>NYJ</td>\n",
       "    </tr>\n",
       "    <tr>\n",
       "      <th>16</th>\n",
       "      <td>2015091305</td>\n",
       "      <td>CLE</td>\n",
       "      <td>NYJ</td>\n",
       "    </tr>\n",
       "    <tr>\n",
       "      <th>17</th>\n",
       "      <td>2015091305</td>\n",
       "      <td>NYJ</td>\n",
       "      <td>CLE</td>\n",
       "    </tr>\n",
       "    <tr>\n",
       "      <th>18</th>\n",
       "      <td>2015091305</td>\n",
       "      <td>NYJ</td>\n",
       "      <td>CLE</td>\n",
       "    </tr>\n",
       "    <tr>\n",
       "      <th>19</th>\n",
       "      <td>2015091305</td>\n",
       "      <td>NYJ</td>\n",
       "      <td>CLE</td>\n",
       "    </tr>\n",
       "  </tbody>\n",
       "</table>\n",
       "</div>"
      ],
      "text/plain": [
       "        GameId OffenseTeam DefenseTeam\n",
       "0   2015091000          NE         PIT\n",
       "1   2015091300         CHI          GB\n",
       "2   2015091300         CHI          GB\n",
       "3   2015091301         STL         SEA\n",
       "4   2015091302         JAC         CAR\n",
       "5   2015091303         WAS         MIA\n",
       "6   2015091303         WAS         MIA\n",
       "7   2015091303         WAS         MIA\n",
       "8   2015091304         BUF         IND\n",
       "9   2015091304         BUF         IND\n",
       "10  2015091304         BUF         IND\n",
       "11  2015091304         BUF         IND\n",
       "12  2015091304         BUF         IND\n",
       "13  2015091304         BUF         IND\n",
       "14  2015091304         BUF         IND\n",
       "15  2015091305         CLE         NYJ\n",
       "16  2015091305         CLE         NYJ\n",
       "17  2015091305         NYJ         CLE\n",
       "18  2015091305         NYJ         CLE\n",
       "19  2015091305         NYJ         CLE"
      ]
     },
     "execution_count": 67,
     "metadata": {},
     "output_type": "execute_result"
    }
   ],
   "source": [
    "pbp15sub.head(20)"
   ]
  },
  {
   "cell_type": "code",
   "execution_count": 68,
   "metadata": {
    "collapsed": false
   },
   "outputs": [],
   "source": [
    "pbp15form = pbp15[pbp15.Formation.isnull()==True]"
   ]
  },
  {
   "cell_type": "code",
   "execution_count": 69,
   "metadata": {
    "collapsed": false
   },
   "outputs": [
    {
     "data": {
      "text/plain": [
       "END QUARTER 1    248\n",
       "END QUARTER 3    247\n",
       "END QUARTER 2    198\n",
       "END QUARTER 4     13\n",
       "Name: Description, dtype: int64"
      ]
     },
     "execution_count": 69,
     "metadata": {},
     "output_type": "execute_result"
    }
   ],
   "source": [
    "pbp15form.Description.value_counts()"
   ]
  },
  {
   "cell_type": "code",
   "execution_count": null,
   "metadata": {
    "collapsed": true
   },
   "outputs": [],
   "source": [
    "#drop blank formations because it refers to end of quarter\n",
    "#drop later when u check other fields haha!"
   ]
  },
  {
   "cell_type": "code",
   "execution_count": 70,
   "metadata": {
    "collapsed": false
   },
   "outputs": [],
   "source": [
    "pbp15pt = pbp15[pbp15.PlayType.isnull()==True]"
   ]
  },
  {
   "cell_type": "code",
   "execution_count": 71,
   "metadata": {
    "collapsed": false
   },
   "outputs": [],
   "source": [
    "#dropped where description is two minute warning, end of quarter, end game\n",
    "pbp15 = pbp15[~pbp15.Description.isin([\"END GAME\", \"TWO-MINUTE WARNING\", \"END QUARTER 1\",\"END QUARTER 2\",\"END QUARTER 3\",\"END QUARTER 4\"])]"
   ]
  },
  {
   "cell_type": "code",
   "execution_count": 117,
   "metadata": {
    "collapsed": false
   },
   "outputs": [
    {
     "data": {
      "text/plain": [
       "57"
      ]
     },
     "execution_count": 117,
     "metadata": {},
     "output_type": "execute_result"
    }
   ],
   "source": [
    "#make playtype to timeout if description is timeout! 57 rows.. yes change them\n",
    "#check how lol\n",
    "pbp15[pbp15.Description.str.startswith(\"TIMEOUT\")].PlayType.isnull().sum()\n",
    "## 29 left"
   ]
  },
  {
   "cell_type": "code",
   "execution_count": 83,
   "metadata": {
    "collapsed": false
   },
   "outputs": [
    {
     "data": {
      "text/plain": [
       "0"
      ]
     },
     "execution_count": 83,
     "metadata": {},
     "output_type": "execute_result"
    }
   ],
   "source": [
    "#no play means there was a penalty \n",
    "pbp15[pbp15.PlayType== \"NO PLAY\"].PenaltyType.isnull().sum()"
   ]
  },
  {
   "cell_type": "code",
   "execution_count": 118,
   "metadata": {
    "collapsed": false
   },
   "outputs": [
    {
     "data": {
      "text/plain": [
       "2926     (9:43) (SHOTGUN) DIRECT SNAP TO 41-J.GRIMES.  ...\n",
       "4537     (10:52) (SHOTGUN) DIRECT SNAP TO 12-M.SANU.  1...\n",
       "5988     (9:40) (SHOTGUN) DIRECT SNAP TO 2-B.DANIELS.  ...\n",
       "6049     (13:03) (SHOTGUN) DIRECT SNAP TO 23-F.GORE.  2...\n",
       "6414     (6:17) 74-J.BUSHROD REPORTED IN AS ELIGIBLE. D...\n",
       "15531    (13:43) (SHOTGUN) DIRECT SNAP TO 22-M.FORTE.  ...\n",
       "18153    (14:08) (SHOTGUN) DIRECT SNAP TO 22-M.FORTE.  ...\n",
       "20037    (5:49) (SHOTGUN) DIRECT SNAP TO 26-L.BELL.  26...\n",
       "20153    (:05) (SHOTGUN) DIRECT SNAP TO 26-L.BELL.  26-...\n",
       "25922    (12:57) (SHOTGUN) DIRECT SNAP TO 22-M.FORTE.  ...\n",
       "25938    (5:14) (SHOTGUN) DIRECT SNAP TO 22-M.FORTE.  2...\n",
       "27755    (10:49) (SHOTGUN) DIRECT SNAP TO 41-J.GRIMES. ...\n",
       "32748    (7:22) DIRECT SNAP TO 41-J.GRIMES.  41-J.GRIME...\n",
       "32755    (3:17) (SHOTGUN) DIRECT SNAP TO 18-C.SHORTS II...\n",
       "32770    (12:20) (SHOTGUN) DIRECT SNAP TO 18-C.SHORTS I...\n",
       "32830    (9:17) (SHOTGUN) DIRECT SNAP TO 18-C.SHORTS II...\n",
       "32840    (5:29) DIRECT SNAP TO 41-J.GRIMES.  41-J.GRIME...\n",
       "32857    (13:31) (SHOTGUN) DIRECT SNAP TO 18-C.SHORTS I...\n",
       "32885    (3:36) (SHOTGUN) DIRECT SNAP TO 18-C.SHORTS II...\n",
       "35178    (9:44) (SHOTGUN) DIRECT SNAP TO 30-T.GURLEY.  ...\n",
       "35325    (5:56) (SHOTGUN) DIRECT SNAP TO 41-J.GRIMES.  ...\n",
       "35376    (4:30) (SHOTGUN) DIRECT SNAP TO 18-C.SHORTS II...\n",
       "39770    (6:43) (SHOTGUN) DIRECT SNAP TO 25-L.MCCOY.  1...\n",
       "39858    (8:31) (SHOTGUN) DIRECT SNAP TO 17-T.PRYOR.  1...\n",
       "40745    (13:20) (SHOTGUN) DIRECT SNAP TO 41-J.GRIMES. ...\n",
       "41556    (8:20) (SHOTGUN) DIRECT SNAP TO 12-M.SANU.  12...\n",
       "45139    (11:31) (SHOTGUN) DIRECT SNAP TO 38-B.BOLDEN. ...\n",
       "45194    (6:57) (SHOTGUN) DIRECT SNAP TO 41-J.GRIMES.  ...\n",
       "45866    (6:00) (SHOTGUN) DIRECT SNAP TO 41-J.GRIMES.  ...\n",
       "Name: Description, dtype: object"
      ]
     },
     "execution_count": 118,
     "metadata": {},
     "output_type": "execute_result"
    }
   ],
   "source": [
    "#PlayType is empty but the description isnt timeout\n",
    "pbp15[(pbp15[\"PlayType\"].isnull()==True) & (~pbp15[\"Description\"].str.startswith(\"TIMEOUT\"))].Description"
   ]
  },
  {
   "cell_type": "code",
   "execution_count": 119,
   "metadata": {
    "collapsed": false
   },
   "outputs": [
    {
     "data": {
      "text/plain": [
       "PASS                    19352\n",
       "RUSH                    12543\n",
       "KICK OFF                 2646\n",
       "PUNT                     2555\n",
       "TIMEOUT                  1802\n",
       "SACK                     1265\n",
       "EXTRA POINT              1219\n",
       "FIELD GOAL               1001\n",
       "NO PLAY                   872\n",
       "SCRAMBLE                  762\n",
       "QB KNEEL                  424\n",
       "TWO-POINT CONVERSION       96\n",
       "FUMBLES                    96\n",
       "EXCEPTION                  87\n",
       "CLOCK STOP                 52\n",
       "PENALTY                     7\n",
       "Name: PlayType, dtype: int64"
      ]
     },
     "execution_count": 119,
     "metadata": {},
     "output_type": "execute_result"
    }
   ],
   "source": [
    "pbp15.PlayType.value_counts()"
   ]
  },
  {
   "cell_type": "code",
   "execution_count": 122,
   "metadata": {
    "collapsed": false
   },
   "outputs": [],
   "source": [
    "pbptesting = pbp15[(pbp15[\"PlayType\"].isnull()==True) & (~pbp15[\"Description\"].str.startswith(\"TIMEOUT\"))].Description"
   ]
  },
  {
   "cell_type": "code",
   "execution_count": 131,
   "metadata": {
    "collapsed": false
   },
   "outputs": [
    {
     "name": "stdout",
     "output_type": "stream",
     "text": [
      "['41-JGRIMES', '12-MSANU', '2-BDANIELS', '23-FGORE', '22-MFORTE', '26-LBELL', '18-CSHORTS III', '30-TGURLEY', '25-LMCCOY', '17-TPRYOR', '38-BBOLDEN']\n"
     ]
    }
   ],
   "source": [
    "players = []\n",
    "\n",
    "for i in pbptesting:\n",
    "    fsplit = i.split(\"TO \")\n",
    "    names = fsplit[1].split(\".\")\n",
    "    player = names[0] + names[1]\n",
    "    if player not in players:\n",
    "        players.append(player)\n",
    "\n",
    "print players\n",
    "\n",
    "#J Grimes "
   ]
  },
  {
   "cell_type": "code",
   "execution_count": 136,
   "metadata": {
    "collapsed": false
   },
   "outputs": [
    {
     "name": "stdout",
     "output_type": "stream",
     "text": [
      "(9:43) (SHOTGUN) DIRECT SNAP TO 41-J.GRIMES.  41-J.GRIMES RIGHT END TO NE 15 FOR -1 YARDS (97-A.BRANCH; 50-R.NINKOVICH).\n",
      "(10:52) (SHOTGUN) DIRECT SNAP TO 12-M.SANU.  12-M.SANU RIGHT END TO SF 46 FOR 2 YARDS (55-A.BROOKS; 96-C.LEMONIER).\n",
      "(9:40) (SHOTGUN) DIRECT SNAP TO 2-B.DANIELS.  22-C.POLK LEFT GUARD TO HOU 26 FOR 1 YARD (37-J.CYPRIEN; 97-R.MILLER).\n",
      "(13:03) (SHOTGUN) DIRECT SNAP TO 23-F.GORE.  23-F.GORE RIGHT TACKLE TO IND 42 FOR 4 YARDS (90-D.JONES).\n",
      "(6:17) 74-J.BUSHROD REPORTED IN AS ELIGIBLE. DIRECT SNAP TO 22-M.FORTE.  22-M.FORTE RIGHT GUARD TO DET 35 FOR 3 YARDS (55-S.TULLOCH).\n",
      "(13:43) (SHOTGUN) DIRECT SNAP TO 22-M.FORTE.  22-M.FORTE RIGHT END TO OAK 45 FOR 8 YARDS (24-C.WOODSON). CHI-64-W.MONTGOMERY WAS INJURED DURING THE PLAY. HIS RETURN IS QUESTIONABLE.\n",
      "(14:08) (SHOTGUN) DIRECT SNAP TO 22-M.FORTE.  22-M.FORTE RIGHT END PUSHED OB AT CHI 11 FOR 3 YARDS (22-M.PETERS).\n",
      "(5:49) (SHOTGUN) DIRECT SNAP TO 26-L.BELL.  26-L.BELL LEFT END TO SD 37 FOR -4 YARDS (56-D.BUTLER).\n",
      "(:05) (SHOTGUN) DIRECT SNAP TO 26-L.BELL.  26-L.BELL LEFT TACKLE FOR 1 YARD, TOUCHDOWN. THE REPLAY OFFICIAL REVIEWED THE RUNNER BROKE THE PLANE RULING, AND THE PLAY WAS UPHELD. THE RULING ON THE FIELD STANDS.\n",
      "(12:57) (SHOTGUN) DIRECT SNAP TO 22-M.FORTE.  22-M.FORTE RIGHT GUARD TO MIN 38 FOR 3 YARDS (54-E.KENDRICKS).\n",
      "(5:14) (SHOTGUN) DIRECT SNAP TO 22-M.FORTE.  22-M.FORTE RIGHT END TO CHI 23 FOR 4 YARDS (54-E.KENDRICKS).\n",
      "(10:49) (SHOTGUN) DIRECT SNAP TO 41-J.GRIMES.  41-J.GRIMES RIGHT END TO NE 28 FOR 1 YARD (91-J.COLLINS; 95-C.JONES).\n",
      "(7:22) DIRECT SNAP TO 41-J.GRIMES.  41-J.GRIMES RIGHT END TO HOU 35 FOR 13 YARDS (52-D.HARRIS, 56-D.DAVIS).\n",
      "(3:17) (SHOTGUN) DIRECT SNAP TO 18-C.SHORTS III.  18-C.SHORTS III LEFT END TO NYJ 17 FOR 12 YARDS (21-M.GILCHRIST; 41-B.SKRINE).\n",
      "(12:20) (SHOTGUN) DIRECT SNAP TO 18-C.SHORTS III.  18-C.SHORTS III RIGHT END TO NYJ 45 FOR 7 YARDS (25-C.PRYOR, 52-D.HARRIS).\n",
      "(9:17) (SHOTGUN) DIRECT SNAP TO 18-C.SHORTS III.  18-C.SHORTS III RIGHT END TO NYJ 27 FOR 5 YARDS (21-M.GILCHRIST).\n",
      "(5:29) DIRECT SNAP TO 41-J.GRIMES.  41-J.GRIMES RIGHT TACKLE TO NYJ 36 FOR 8 YARDS (78-L.DOUZABLE; 21-M.GILCHRIST).\n",
      "(13:31) (SHOTGUN) DIRECT SNAP TO 18-C.SHORTS III.  41-J.GRIMES RIGHT GUARD TO HOU 15 FOR 1 YARD (92-L.WILLIAMS).\n",
      "(3:36) (SHOTGUN) DIRECT SNAP TO 18-C.SHORTS III.  18-C.SHORTS III RIGHT END TO HOU 19 FOR 2 YARDS (94-D.HARRISON; 96-M.WILKERSON).\n",
      "(9:44) (SHOTGUN) DIRECT SNAP TO 30-T.GURLEY.  11-T.AUSTIN RIGHT END PUSHED OB AT CIN 13 FOR 60 YARDS (27-D.KIRKPATRICK).\n",
      "(5:56) (SHOTGUN) DIRECT SNAP TO 41-J.GRIMES.  41-J.GRIMES RIGHT END TO HOU 33 FOR 7 YARDS (50-S.ANTHONY).\n",
      "(4:30) (SHOTGUN) DIRECT SNAP TO 18-C.SHORTS III.  18-C.SHORTS III LEFT END TO NO 30 FOR 7 YARDS (32-K.VACCARO; 50-S.ANTHONY).\n",
      "(6:43) (SHOTGUN) DIRECT SNAP TO 25-L.MCCOY.  11-M.THIGPEN RIGHT END TO BUF 43 FOR -1 YARDS (26-B.BREELAND). END AROUND HANDOFF FROM 25-MCCOY TO 11-THIGPEN\n",
      "(8:31) (SHOTGUN) DIRECT SNAP TO 17-T.PRYOR.  17-T.PRYOR RIGHT END TO CLE 42 FOR -1 YARDS (25-R.SHERMAN; 50-K.WRIGHT).\n",
      "(13:20) (SHOTGUN) DIRECT SNAP TO 41-J.GRIMES.  41-J.GRIMES RIGHT TACKLE TO HOU 30 FOR 5 YARDS (51-D.BASS).\n",
      "(8:20) (SHOTGUN) DIRECT SNAP TO 12-M.SANU.  12-M.SANU RIGHT END TO CIN 28 FOR 10 YARDS (21-L.WEBB).\n",
      "(11:31) (SHOTGUN) DIRECT SNAP TO 38-B.BOLDEN.  38-B.BOLDEN RIGHT GUARD TO NYJ 37 FOR NO GAIN (92-L.WILLIAMS; 72-S.BOWEN).\n",
      "(6:57) (SHOTGUN) DIRECT SNAP TO 41-J.GRIMES.  41-J.GRIMES LEFT END TO TEN 13 FOR 3 YARDS (33-M.GRIFFIN).\n",
      "(6:00) (SHOTGUN) DIRECT SNAP TO 41-J.GRIMES.  41-J.GRIMES RIGHT END PUSHED OB AT JAC 3 FOR 5 YARDS (51-P.POSLUSZNY).\n"
     ]
    }
   ],
   "source": [
    "for i in pbptesting:\n",
    "    print i"
   ]
  },
  {
   "cell_type": "code",
   "execution_count": 133,
   "metadata": {
    "collapsed": false
   },
   "outputs": [
    {
     "data": {
      "text/plain": [
       "CENTER          3286\n",
       "RIGHT GUARD     1645\n",
       "RIGHT TACKLE    1583\n",
       "LEFT GUARD      1564\n",
       "LEFT TACKLE     1558\n",
       "LEFT END        1510\n",
       "RIGHT END       1397\n",
       "Name: RushDirection, dtype: int64"
      ]
     },
     "execution_count": 133,
     "metadata": {},
     "output_type": "execute_result"
    }
   ],
   "source": [
    "pbp15.RushDirection.value_counts()"
   ]
  },
  {
   "cell_type": "code",
   "execution_count": 137,
   "metadata": {
    "collapsed": false
   },
   "outputs": [
    {
     "data": {
      "text/plain": [
       "SHORT RIGHT                  6220\n",
       "SHORT LEFT                   5739\n",
       "SHORT MIDDLE                 3593\n",
       "DEEP LEFT                    1510\n",
       "DEEP RIGHT                   1481\n",
       "DEEP MIDDLE                   768\n",
       "PASS RULING,                   18\n",
       "MIDDLE TO                       3\n",
       "INTENDED FOR                    2\n",
       "NOT LISTED                      2\n",
       "LEFT TO                         2\n",
       "(10:01) (SHOTGUN)               1\n",
       "(4:54) 2-JMANZIEL               1\n",
       "[55-S.TULLOCH]. PENALTY         1\n",
       "(10:14) 17-PRIVERS              1\n",
       "[58-V.MILLER]. THE              1\n",
       "INTERCEPTED BY                  1\n",
       "[20-C.GRAHAM]. THROWN           1\n",
       "IN 119                          1\n",
       "(13:19) 5-TTAYLOR               1\n",
       "(:21) 5-TBRIDGEWATER            1\n",
       "RIGHT TO                        1\n",
       "[31-M.ALEXANDER]. PENALTY       1\n",
       "(6:44) (SHOTGUN)                1\n",
       "Name: PassType, dtype: int64"
      ]
     },
     "execution_count": 137,
     "metadata": {},
     "output_type": "execute_result"
    }
   ],
   "source": [
    "pbp15.PassType.value_counts()"
   ]
  },
  {
   "cell_type": "code",
   "execution_count": 140,
   "metadata": {
    "collapsed": false
   },
   "outputs": [
    {
     "data": {
      "text/plain": [
       "2926          SHOTGUN\n",
       "4537          SHOTGUN\n",
       "5988          SHOTGUN\n",
       "6049          SHOTGUN\n",
       "6414     UNDER CENTER\n",
       "15531         SHOTGUN\n",
       "18153         SHOTGUN\n",
       "20037         SHOTGUN\n",
       "20153         SHOTGUN\n",
       "25922         SHOTGUN\n",
       "25938         SHOTGUN\n",
       "27755         SHOTGUN\n",
       "32748    UNDER CENTER\n",
       "32755         SHOTGUN\n",
       "32770         SHOTGUN\n",
       "32830         SHOTGUN\n",
       "32840    UNDER CENTER\n",
       "32857         SHOTGUN\n",
       "32885         SHOTGUN\n",
       "35178         SHOTGUN\n",
       "35325         SHOTGUN\n",
       "35376         SHOTGUN\n",
       "39770         SHOTGUN\n",
       "39858         SHOTGUN\n",
       "40745         SHOTGUN\n",
       "41556         SHOTGUN\n",
       "45139         SHOTGUN\n",
       "45194         SHOTGUN\n",
       "45866         SHOTGUN\n",
       "Name: Formation, dtype: object"
      ]
     },
     "execution_count": 140,
     "metadata": {},
     "output_type": "execute_result"
    }
   ],
   "source": [
    "pbp15[(pbp15[\"PlayType\"].isnull()==True) & (~pbp15[\"Description\"].str.startswith(\"TIMEOUT\"))].Formation"
   ]
  },
  {
   "cell_type": "code",
   "execution_count": 145,
   "metadata": {
    "collapsed": false
   },
   "outputs": [
    {
     "data": {
      "text/plain": [
       "['NE',\n",
       " 'CHI',\n",
       " 'STL',\n",
       " 'JAC',\n",
       " 'WAS',\n",
       " 'BUF',\n",
       " 'CLE',\n",
       " 'NYJ',\n",
       " 'HOU',\n",
       " 'KC',\n",
       " 'NO',\n",
       " 'SD',\n",
       " 'DEN',\n",
       " 'BAL',\n",
       " 'OAK',\n",
       " 'CIN',\n",
       " 'TEN',\n",
       " 'TB',\n",
       " 'DAL',\n",
       " 'NYG',\n",
       " 'ATL',\n",
       " 'PHI',\n",
       " 'SF',\n",
       " 'MIN',\n",
       " 'CAR',\n",
       " 'ARI',\n",
       " 'DET',\n",
       " 'PIT',\n",
       " 'MIA',\n",
       " 'SEA',\n",
       " 'GB',\n",
       " 'IND']"
      ]
     },
     "execution_count": 145,
     "metadata": {},
     "output_type": "execute_result"
    }
   ],
   "source": [
    "pbp15sub[\"OffenseTeam\"].factorize()[1].tolist()"
   ]
  },
  {
   "cell_type": "code",
   "execution_count": null,
   "metadata": {
    "collapsed": true
   },
   "outputs": [],
   "source": []
  }
 ],
 "metadata": {
  "kernelspec": {
   "display_name": "Python 2",
   "language": "python",
   "name": "python2"
  },
  "language_info": {
   "codemirror_mode": {
    "name": "ipython",
    "version": 2
   },
   "file_extension": ".py",
   "mimetype": "text/x-python",
   "name": "python",
   "nbconvert_exporter": "python",
   "pygments_lexer": "ipython2",
   "version": "2.7.12"
  }
 },
 "nbformat": 4,
 "nbformat_minor": 0
}
